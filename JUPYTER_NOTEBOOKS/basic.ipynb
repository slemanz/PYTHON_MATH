{
 "cells": [
  {
   "cell_type": "markdown",
   "id": "ee946e15-bb12-48b7-ae7c-4a7056479ec4",
   "metadata": {},
   "source": [
    "# Working with Numbers\n",
    "\n",
    "Python can act like a glorified calculator, doing simple computations."
   ]
  },
  {
   "cell_type": "code",
   "execution_count": 7,
   "id": "2b5ccf4d-ccde-4369-8ca5-45698fcf354f",
   "metadata": {},
   "outputs": [
    {
     "name": "stdout",
     "output_type": "stream",
     "text": [
      "2\n"
     ]
    }
   ],
   "source": [
    "print(7+1-3*2)"
   ]
  },
  {
   "cell_type": "markdown",
   "id": "1fb9e0ac-7709-4caf-807d-940c1c43d61a",
   "metadata": {},
   "source": [
    "Hint in division, to get the integer value you can use \"//\":"
   ]
  },
  {
   "cell_type": "code",
   "execution_count": 8,
   "id": "17190351-ba80-4aa1-b5ab-51debf191c0a",
   "metadata": {},
   "outputs": [
    {
     "name": "stdout",
     "output_type": "stream",
     "text": [
      "1.5\n",
      "1\n"
     ]
    }
   ],
   "source": [
    "print(3/2)\n",
    "print(3//2)"
   ]
  },
  {
   "cell_type": "markdown",
   "id": "f9f077a9-0f11-4e7a-b70e-d2e2b3be6dbd",
   "metadata": {},
   "source": [
    "## Labels\n",
    "\n",
    "We can attach names to numbers!"
   ]
  },
  {
   "cell_type": "code",
   "execution_count": 9,
   "id": "878203a3-c3a6-4f77-b873-acdfb614121e",
   "metadata": {},
   "outputs": [
    {
     "name": "stdout",
     "output_type": "stream",
     "text": [
      "5\n"
     ]
    }
   ],
   "source": [
    "a = 2\n",
    "b = 3\n",
    "print(a+b)"
   ]
  },
  {
   "cell_type": "markdown",
   "id": "7a248a59-5757-4100-9c59-e96e5f250b65",
   "metadata": {},
   "source": [
    "## Working with Fractions\n",
    "\n",
    "In python we can use the fractions module (standard library) to handle with fractions, as an example:"
   ]
  },
  {
   "cell_type": "code",
   "execution_count": 10,
   "id": "60d84ea5-957c-49de-ab9a-fbc6c76a3a9a",
   "metadata": {},
   "outputs": [
    {
     "name": "stdout",
     "output_type": "stream",
     "text": [
      "3/4\n",
      "11/4\n",
      "2.75\n"
     ]
    }
   ],
   "source": [
    "from fractions import Fraction\n",
    "f = Fraction(3,4)\n",
    "print(f)\n",
    "print(f + 2)\n",
    "print(f + 2.0)"
   ]
  },
  {
   "cell_type": "markdown",
   "id": "2e87dfaf-1e88-4856-93df-25263f02b1de",
   "metadata": {},
   "source": [
    "## Complex Numbers\n",
    "\n",
    "Python also supports complex numbers with the imaginary part identified by the letter j or J."
   ]
  },
  {
   "cell_type": "code",
   "execution_count": 11,
   "id": "1ef4801c-fcc2-48a7-a8d8-d8a57202c6ce",
   "metadata": {},
   "outputs": [
    {
     "name": "stdout",
     "output_type": "stream",
     "text": [
      "(2+1j)\n",
      "<class 'complex'>\n"
     ]
    }
   ],
   "source": [
    "a = 2 + 1j\n",
    "print(a)\n",
    "print(type(a))"
   ]
  },
  {
   "cell_type": "markdown",
   "id": "185afe56-5010-4618-b965-8fde43ff1c46",
   "metadata": {},
   "source": [
    "You can also define complex numbers using the complex() function, and to do operations with the numbers."
   ]
  },
  {
   "cell_type": "code",
   "execution_count": 12,
   "id": "cf6e0591-b950-416f-b81b-ddf73101cbce",
   "metadata": {},
   "outputs": [
    {
     "name": "stdout",
     "output_type": "stream",
     "text": [
      "(4+4j)\n"
     ]
    }
   ],
   "source": [
    "b = complex(2,3)\n",
    "print(a + b)"
   ]
  },
  {
   "cell_type": "markdown",
   "id": "c6ba2314-edf8-402f-99b9-e235d70644de",
   "metadata": {},
   "source": [
    "---\n",
    "\n",
    "[Main Page](../README.md)"
   ]
  }
 ],
 "metadata": {
  "kernelspec": {
   "display_name": "Python 3 (ipykernel)",
   "language": "python",
   "name": "python3"
  },
  "language_info": {
   "codemirror_mode": {
    "name": "ipython",
    "version": 3
   },
   "file_extension": ".py",
   "mimetype": "text/x-python",
   "name": "python",
   "nbconvert_exporter": "python",
   "pygments_lexer": "ipython3",
   "version": "3.10.12"
  }
 },
 "nbformat": 4,
 "nbformat_minor": 5
}
