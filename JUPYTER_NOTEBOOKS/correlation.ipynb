{
 "cells": [
  {
   "cell_type": "markdown",
   "id": "ce639ac8-2424-49a3-af46-1d8d39c80916",
   "metadata": {},
   "source": [
    "# Calculating the Correlation\n",
    "\n",
    "Rhe correlation coefficient measures the strength of the __linear__ relationship. The coefficient can be either positive or negative, and its magnitude can range between −1 and 1. A correlation coefficient of 0 indicates that there’s no linear correlation between the two quantities. A coefficient of 1 or close to 1 indicates that there’s a strong positive linear correlation; a coefficient of exactly 1 is referred to as perfect positive correlation. Similarly, a correlation coefficient of –1 or close to –1 indicates a strong negative correlation, where 1 indicates a perfect negative correlation.\n",
    "\n",
    "## Correlation and Causation\n",
    "\n",
    "In statistics, you’ll often come across the statement “correlation doesn’t imply causation.” This is a reminder that even if two sets of observations are strongly correlated with each other, that doesn’t mean one variable causes the other. When two variables are strongly correlated, sometimes there’s a third factor that influences both variables and explains the correlation.\n",
    "\n",
    "## Calculating the Correlation Coefficient\n",
    "\n",
    "The correlation coefficient is calculated using the formula:\n",
    "\n",
    "$$ correlation = \\dfrac{n\\Sigma xy - \\Sigma x \\Sigma y}{\\sqrt{(n\\Sigma x^2 - (\\Sigma x)^2)(n\\Sigma y^2 - (\\Sigma y)^2)}} $$\n",
    "\n",
    "In the above formula, $n$ is the total number of values present in each set of numbers (the sets have to be of equal length). The two sets of numbers are denoted by x and y (it doesn’t matter which one you denote as which). The other terms are described as follows:\n",
    "\n",
    "\n",
    "$\\Sigma xy$ - Sum of the products of the individual elements of the two sets of numbers, x and y\n",
    "\n",
    "$\\Sigma x$ - Sum of the numbers in set x\n",
    "\n",
    "$\\Sigma y$ - Sum of the numbers in set y\n",
    "\n",
    "$(\\Sigma x)^2$ - Square of the sum of the numbers in set x\n",
    "\n",
    "$(\\Sigma y)^2$ - Square of the sum of the numbers in set y\n",
    "\n",
    "$\\Sigma x^2$ - Sum of the squares of the numbers in set x\n",
    "\n",
    "$\\Sigma y^2$ - Sum of the squares of the numbers in set y\n",
    "\n",
    "Once we’ve calculated these terms, you can combine them according to the preceding formula to find the correlation coefficient. For small lists, it’s possible to do this by hand without too much effort, but it certainly gets complicated as the size of each set of numbers increases.\n",
    "\n",
    "We'll need the zip() function to help us calculate the sum of products from the two sets of numbers:"
   ]
  },
  {
   "cell_type": "code",
   "execution_count": 1,
   "id": "624756eb-ed44-4d1d-a1d5-9ac6a899e0f0",
   "metadata": {},
   "outputs": [
    {
     "name": "stdout",
     "output_type": "stream",
     "text": [
      "1 4\n",
      "2 5\n",
      "3 6\n"
     ]
    }
   ],
   "source": [
    "list1 = [1, 2, 3]\n",
    "list2 = [4, 5, 6]\n",
    "for x, y in zip(list1, list2):\n",
    "    print(x, y)"
   ]
  },
  {
   "cell_type": "markdown",
   "id": "c69f64b7-6a4d-4874-aaa0-99ebca348d9e",
   "metadata": {},
   "source": [
    "The zip() function returns pairs of the corresponding elements in x and y, which you can then use in a loop to perform other operations.\n",
    "\n",
    "Now, we can write our code:"
   ]
  }
 ],
 "metadata": {
  "kernelspec": {
   "display_name": "Python 3 (ipykernel)",
   "language": "python",
   "name": "python3"
  },
  "language_info": {
   "codemirror_mode": {
    "name": "ipython",
    "version": 3
   },
   "file_extension": ".py",
   "mimetype": "text/x-python",
   "name": "python",
   "nbconvert_exporter": "python",
   "pygments_lexer": "ipython3",
   "version": "3.10.12"
  }
 },
 "nbformat": 4,
 "nbformat_minor": 5
}
