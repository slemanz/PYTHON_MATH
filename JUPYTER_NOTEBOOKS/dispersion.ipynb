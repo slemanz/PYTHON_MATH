{
 "cells": [
  {
   "cell_type": "markdown",
   "id": "1fe0d931-2adb-4986-8f4b-598080417e0d",
   "metadata": {},
   "source": [
    "# The Dispersion\n",
    "\n",
    "The dispersion, tells us how far away the numbers in a set of data are from the mean of the data set. There are different measurements of dispersion like: range, variance, and standard deviation.\n",
    "\n",
    "## The Range of a Set of Numbers"
   ]
  },
  {
   "cell_type": "markdown",
   "id": "8a7c3c31-e31c-46e5-829d-092f3190e893",
   "metadata": {},
   "source": [
    "You could have two groups of numbers with the exact same mean but with vastly different ranges, so knowing the range fills in more information about a set of numbers beyond what we can learn from just looking at the mean, median, and mode. To find the range:"
   ]
  },
  {
   "cell_type": "code",
   "execution_count": 3,
   "id": "43a08b8a-5789-4900-9e1c-e262f3953b79",
   "metadata": {},
   "outputs": [
    {
     "name": "stdout",
     "output_type": "stream",
     "text": [
      "Lowest: 60\n",
      "Highest: 1200\n",
      "Range: 1140\n"
     ]
    }
   ],
   "source": [
    "'''\n",
    "Find the range\n",
    "'''\n",
    "\n",
    "def find_range(numbers):\n",
    "    lowest = min(numbers)\n",
    "    highest = max(numbers)\n",
    "\n",
    "    # the range\n",
    "    r = highest - lowest\n",
    "    return lowest, highest, r\n",
    "\n",
    "list_numbers = [100, 60, 70, 900, 100, 200, 500, 500, 503, 600, 1000, 1200]\n",
    "lowest, highest, range = find_range(list_numbers)\n",
    "print(\"Lowest: {}\\nHighest: {}\\nRange: {}\".format(lowest, highest, range))"
   ]
  },
  {
   "cell_type": "markdown",
   "id": "b7f1cc59-0610-4077-a881-9013186914ec",
   "metadata": {},
   "source": [
    "The function find_range() accepts a list as a parameter and finds the range. First, it calculates the lowest and the highest numbers using the min() and the max() functions.\n",
    "We then calculate the range by taking the difference between the highest and the lowest numbers, using the label r to refer to this difference. At end, we return all three numbers\n",
    "\n",
    "## The Variance and Standard Deviation\n",
    "\n",
    "But and if we want to know more about how all of the individual numbers vary from the mean? Were they all similar, clustered near the mean, or were they all different, closer to the extremes? There are two measures of dispersion that tell us more about that: the variance and the standard deviation. The variance is the average of the squares of those differences.\n",
    "\n",
    "$$ Variance = \\dfrac{\\Sigma (x_i -  x_{mean})^2}{n} $$\n",
    "\n",
    "$x_i$ - individual numbers\n",
    "\n",
    "$x$ - the mean of these numbers \n",
    "\n",
    "$n$ - number of values in the list\n",
    "\n",
    "If we want to calculate the standard deviation as well, all we have to do is take the square root of the variance. Values that are within one standard deviation of the mean can be thought of as fairly typical, whereas values that are three or more standard deviations away from the mean can be considered much more atypical—we call such values _outliers_.\n",
    "\n",
    "$$ Deviation = \\sqrt{Variance} = \\sqrt{\\dfrac{\\Sigma (x_i -  x_{mean})^2}{n}}$$\n",
    "\n",
    "For this all, we have the following program:"
   ]
  },
  {
   "cell_type": "code",
   "execution_count": 10,
   "id": "472f8588-9747-481b-b360-bf4568beea1c",
   "metadata": {},
   "outputs": [
    {
     "name": "stdout",
     "output_type": "stream",
     "text": [
      "The variance of the list of numbers is 141047.35\n",
      "The standard deviation of the list of numbers is 375.56\n"
     ]
    }
   ],
   "source": [
    "'''\n",
    "The variance and standard deviation\n",
    "'''\n",
    "\n",
    "def calculate_mean(numbers):\n",
    "    s = sum(numbers)\n",
    "    N = len(numbers)\n",
    "    # the mean\n",
    "    mean = s/N\n",
    "    return mean\n",
    "\n",
    "def find_differences(numbers):\n",
    "    # mean\n",
    "    mean = calculate_mean(numbers)\n",
    "\n",
    "    # find differences\n",
    "    diff = []\n",
    "    for number in numbers:\n",
    "        diff.append(number - mean)\n",
    "\n",
    "    return diff\n",
    "\n",
    "def calculate_variance(numbers):\n",
    "    # list of differences\n",
    "    diff = find_differences(numbers)\n",
    "\n",
    "    # apply the formula\n",
    "    squared_diff = []\n",
    "    for number in diff:\n",
    "        squared_diff.append(number**2)\n",
    "\n",
    "    sum_squared_diff = sum(squared_diff)\n",
    "    variance = sum_squared_diff/len(numbers)\n",
    "    return variance\n",
    "\n",
    "list_numbers = [100, 60, 70, 900, 100, 200, 500, 500, 503, 600, 1000, 1200]\n",
    "variance = calculate_variance(list_numbers)\n",
    "print('The variance of the list of numbers is {:.2f}'.format(variance))\n",
    "\n",
    "std_deviation = variance**0.5\n",
    "print('The standard deviation of the list of numbers is {:.2f}'.format(std_deviation))"
   ]
  },
  {
   "cell_type": "markdown",
   "id": "f880db06-9618-44cb-b880-4dfcbdf54911",
   "metadata": {},
   "source": [
    "The variance and the standard deviation are both very large, meaning that the individual daily total donations vary greatly from the mean. Now, let’s compare the variance and the standard deviation for a different set of numbers:"
   ]
  },
  {
   "cell_type": "code",
   "execution_count": 12,
   "id": "d5004fa3-7a67-439c-a78e-540cb340d764",
   "metadata": {},
   "outputs": [
    {
     "name": "stdout",
     "output_type": "stream",
     "text": [
      "The variance of the list of numbers is 135.39\n",
      "The standard deviation of the list of numbers is 11.64\n"
     ]
    }
   ],
   "source": [
    "list_numbers2 = [382, 389, 377, 397, 396, 368, 369, 392,398, 367, 393, 396]\n",
    "variance = calculate_variance(list_numbers2)\n",
    "print('The variance of the list of numbers is {:.2f}'.format(variance))\n",
    "\n",
    "std_deviation = variance**0.5\n",
    "print('The standard deviation of the list of numbers is {:.2f}'.format(std_deviation))"
   ]
  },
  {
   "cell_type": "markdown",
   "id": "ac7e59d6-7cd6-4f54-8ae6-a79a8164ceca",
   "metadata": {},
   "source": [
    "Respectively, lower values for variance and standard deviation tell us that the individual numbers are closer to the mean.\n",
    "\n",
    "---\n",
    "\n",
    "[Describing Data with Statistics](statistics.ipynb)\n",
    "\n",
    "[Main Page](../README.md)"
   ]
  }
 ],
 "metadata": {
  "kernelspec": {
   "display_name": "Python 3 (ipykernel)",
   "language": "python",
   "name": "python3"
  },
  "language_info": {
   "codemirror_mode": {
    "name": "ipython",
    "version": 3
   },
   "file_extension": ".py",
   "mimetype": "text/x-python",
   "name": "python",
   "nbconvert_exporter": "python",
   "pygments_lexer": "ipython3",
   "version": "3.10.12"
  }
 },
 "nbformat": 4,
 "nbformat_minor": 5
}
