{
 "cells": [
  {
   "cell_type": "markdown",
   "id": "7702e3ac-322f-4f87-aa44-b9078d8c76cf",
   "metadata": {},
   "source": [
    "# Frequency Table\n",
    "\n",
    "Let's consider a list of test scores, for each number, we list the number of times it occurs in the second column. The sum of the individual frequencies in the second column adds up to the total number of scores. We’ll use the most_common() method once again to print the frequency table for a given set of numbers."
   ]
  },
  {
   "cell_type": "code",
   "execution_count": 6,
   "id": "dcbfa231-ed54-4f90-b32b-ea3a2c485bf3",
   "metadata": {},
   "outputs": [
    {
     "name": "stdout",
     "output_type": "stream",
     "text": [
      "Number\tFrequency\n",
      "9\t5\n",
      "6\t3\n",
      "7\t2\n",
      "8\t2\n",
      "10\t2\n",
      "5\t2\n",
      "1\t2\n",
      "2\t1\n",
      "4\t1\n"
     ]
    }
   ],
   "source": [
    "'''\n",
    "Frequency table for a list of numbers\n",
    "'''\n",
    "\n",
    "from collections import Counter\n",
    "\n",
    "def frequency_table(numbers):\n",
    "    table = Counter(numbers)\n",
    "    print(\"Number\\tFrequency\")\n",
    "    for number in table.most_common():\n",
    "        print(\"{}\\t{}\".format(number[0], number[1]))\n",
    "\n",
    "\n",
    "\n",
    "list_numbers = [7, 8, 9, 2, 10, 9, 9, 9, 9, 4, 5, 6, 1, 5, 6, 7, 8, 6, 1, 10] # 20 scores\n",
    "frequency_table(list_numbers)"
   ]
  },
  {
   "cell_type": "markdown",
   "id": "d31e4d5c-2f14-4a60-93fc-9577bc0668f7",
   "metadata": {},
   "source": [
    "The function frequency_table() prints the frequency table of the list of numbers passed to it. At u, we first create a Counter object and create the label table to refer to it. Next, using a for loop v, we go through each of the tuples, printing the first member (the number itself) and the second member (the frequency of the corresponding number).\n",
    "\n",
    "Also, we can sort our table by the number."
   ]
  },
  {
   "cell_type": "code",
   "execution_count": 12,
   "id": "404c0f8e-13fd-42ef-8123-a570fbc51843",
   "metadata": {},
   "outputs": [
    {
     "name": "stdout",
     "output_type": "stream",
     "text": [
      "Number\tFrequency\n",
      "1\t2\n",
      "2\t1\n",
      "4\t1\n",
      "5\t2\n",
      "6\t3\n",
      "7\t2\n",
      "8\t2\n",
      "9\t5\n",
      "10\t2\n"
     ]
    }
   ],
   "source": [
    "'''\n",
    "Frequency table sorted by the numbers\n",
    "'''\n",
    "\n",
    "from collections import Counter\n",
    "\n",
    "def frequency_table(numbers):\n",
    "    table = Counter(numbers)\n",
    "    numbers_freq = table.most_common()\n",
    "    numbers_freq.sort()\n",
    "\n",
    "    print(\"Number\\tFrequency\")\n",
    "    for number in numbers_freq:\n",
    "        print(\"{}\\t{}\".format(number[0],number[1]))\n",
    "\n",
    "\n",
    "\n",
    "list_numbers = [7, 8, 9, 2, 10, 9, 9, 9, 9, 4, 5, 6, 1, 5, 6, 7, 8, 6, 1, 10] # 20 scores, the same as before\n",
    "frequency_table(list_numbers)"
   ]
  },
  {
   "cell_type": "markdown",
   "id": "32f6f8e0-0a5f-458a-a930-0b9520d2a0a7",
   "metadata": {},
   "source": [
    "---\n",
    "\n",
    "[Describing Data with Statistics](statistics.ipynb)\n",
    "\n",
    "[Main page](../README.md)"
   ]
  }
 ],
 "metadata": {
  "kernelspec": {
   "display_name": "Python 3 (ipykernel)",
   "language": "python",
   "name": "python3"
  },
  "language_info": {
   "codemirror_mode": {
    "name": "ipython",
    "version": 3
   },
   "file_extension": ".py",
   "mimetype": "text/x-python",
   "name": "python",
   "nbconvert_exporter": "python",
   "pygments_lexer": "ipython3",
   "version": "3.10.12"
  }
 },
 "nbformat": 4,
 "nbformat_minor": 5
}
