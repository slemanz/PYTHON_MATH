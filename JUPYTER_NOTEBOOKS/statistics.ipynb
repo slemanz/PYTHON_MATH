{
 "cells": [
  {
   "cell_type": "markdown",
   "id": "23d0b2b0-8835-4b5f-b1f2-394e5ce497a7",
   "metadata": {},
   "source": [
    "# Describing Data with Statistics\n",
    "\n",
    "With statistics we can study, describe, and better understand sets of data.\n",
    "\n",
    "## The Mean\n",
    "\n",
    "The mean is a common and intuitive way to summarize a set of numbers. It’s what we might simply call the __“average”__ in everyday use, although as we’ll see, there are other kinds of averages as well. Let’s take a sample set of numbers and calculate the mean.\n",
    "\n",
    "We’ll write a program that calculates and prints the mean for a collection of numbers. To calculate the mean, we’ll need to take the sum of the list of numbers and divide it by the number of items in the list. We have two Python functions that make both of these operations very easy: sum() and len(). So our code will look like:"
   ]
  },
  {
   "cell_type": "code",
   "execution_count": 5,
   "id": "6c2aab05-f649-4dbf-82f3-76857fbfa779",
   "metadata": {},
   "outputs": [
    {
     "name": "stdout",
     "output_type": "stream",
     "text": [
      "The mean of our set of data is 477.75.\n"
     ]
    }
   ],
   "source": [
    "'''\n",
    "Calculating the mean\n",
    "'''\n",
    "\n",
    "def calculate_mean(numbers):\n",
    "    s = sum(numbers)\n",
    "    N = len(numbers)\n",
    "\n",
    "    mean = s/N\n",
    "    return mean\n",
    "\n",
    "donations = [100, 60, 70, 900, 100, 200, 500, 500, 503, 600, 1000, 1200]\n",
    "mean = calculate_mean(donations)\n",
    "\n",
    "print(\"The mean of our set of data is {:.2f}.\".format(mean))"
   ]
  },
  {
   "cell_type": "markdown",
   "id": "768ac0a1-4ef5-4b48-86fa-32d3ab6edab6",
   "metadata": {},
   "source": [
    "The calculate_mean() function will calculate the sum and length of any list, so we can reuse it to calculate the mean for other sets of numbers, too."
   ]
  }
 ],
 "metadata": {
  "kernelspec": {
   "display_name": "Python 3 (ipykernel)",
   "language": "python",
   "name": "python3"
  },
  "language_info": {
   "codemirror_mode": {
    "name": "ipython",
    "version": 3
   },
   "file_extension": ".py",
   "mimetype": "text/x-python",
   "name": "python",
   "nbconvert_exporter": "python",
   "pygments_lexer": "ipython3",
   "version": "3.10.12"
  }
 },
 "nbformat": 4,
 "nbformat_minor": 5
}
