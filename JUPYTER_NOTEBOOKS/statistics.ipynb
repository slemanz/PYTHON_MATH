{
 "cells": [
  {
   "cell_type": "markdown",
   "id": "23d0b2b0-8835-4b5f-b1f2-394e5ce497a7",
   "metadata": {},
   "source": [
    "# Describing Data with Statistics\n",
    "\n",
    "With statistics we can study, describe, and better understand sets of data.\n",
    "\n",
    "## The Mean\n",
    "\n",
    "The mean is a common and intuitive way to summarize a set of numbers. It’s what we might simply call the __“average”__ in everyday use, although as we’ll see, there are other kinds of averages as well. Let’s take a sample set of numbers and calculate the mean.\n",
    "\n",
    "We’ll write a program that calculates and prints the mean for a collection of numbers. To calculate the mean, we’ll need to take the sum of the list of numbers and divide it by the number of items in the list. We have two Python functions that make both of these operations very easy: sum() and len(). So our code will look like:"
   ]
  },
  {
   "cell_type": "code",
   "execution_count": 5,
   "id": "6c2aab05-f649-4dbf-82f3-76857fbfa779",
   "metadata": {},
   "outputs": [
    {
     "name": "stdout",
     "output_type": "stream",
     "text": [
      "The mean of our set of data is 477.75.\n"
     ]
    }
   ],
   "source": [
    "'''\n",
    "Calculating the mean\n",
    "'''\n",
    "\n",
    "def calculate_mean(numbers):\n",
    "    s = sum(numbers)\n",
    "    N = len(numbers)\n",
    "\n",
    "    mean = s/N\n",
    "    return mean\n",
    "\n",
    "donations = [100, 60, 70, 900, 100, 200, 500, 500, 503, 600, 1000, 1200]\n",
    "mean = calculate_mean(donations)\n",
    "\n",
    "print(\"The mean of our set of data is {:.2f}.\".format(mean))"
   ]
  },
  {
   "cell_type": "markdown",
   "id": "768ac0a1-4ef5-4b48-86fa-32d3ab6edab6",
   "metadata": {},
   "source": [
    "The calculate_mean() function will calculate the sum and length of any list, so we can reuse it to calculate the mean for other sets of numbers, too.\n",
    "\n",
    "## The Median\n",
    "\n",
    "The median of a collection of numbers is another kind of average. To find the median, we sort the numbers in ascending order. If the length of the list of numbers is odd, the number in the middle of the list is the median. If the length of the list of numbers is even, we get the median by taking the mean of the two middle numbers. Let’s find the median of the previous list of donations (assume, just for this example that we have another donation total for the 13th).\n",
    "\n",
    "Before we write a program to find the median of a list of numbers, let’s think about how we could automatically calculate the middle elements of a list in either case. If the length of a list ($N$) is odd, the middle number is the one in position $(N + 1)/2$. If $N$ is even, the two middle elements are $N/2$ and $(N/2) + 1$.\n",
    "\n",
    "In order to write a function that calculates the median, we’ll also need to sort a list in ascending order. Luckily, the sort() method does just that, so our program will look like:"
   ]
  },
  {
   "cell_type": "code",
   "execution_count": 10,
   "id": "e79e5c28-6c77-4c61-ad97-82de4e2b741a",
   "metadata": {},
   "outputs": [
    {
     "name": "stdout",
     "output_type": "stream",
     "text": [
      "Median with 12 items:  500.0\n",
      "Median with 13 items:  500\n"
     ]
    }
   ],
   "source": [
    "'''\n",
    "Calcultating the median\n",
    "'''\n",
    "\n",
    "def calculate_median(numbers):\n",
    "    N = len(numbers)\n",
    "    numbers.sort()\n",
    "\n",
    "    if (N % 2) == 0:\n",
    "        # N is even \n",
    "        m1 = N/2\n",
    "        m2 = (N+1)/2\n",
    "        \n",
    "        # convert to integer and list match position\n",
    "        m1 = int(m1) - 1\n",
    "        m2 = int(m2) - 1\n",
    "        median = (numbers[m1] + numbers[m2])/2\n",
    "    else:\n",
    "        m = (N/2) + 1\n",
    "        # convert to integer, match position\n",
    "        m = int(m) - 1\n",
    "        median = numbers[m]\n",
    "\n",
    "    return median\n",
    "\n",
    "donations = [100, 60, 70, 900, 100, 200, 500, 500, 503, 600, 1000, 1200]\n",
    "donations2 = [100, 60, 70, 900, 100, 200, 500, 500, 503, 600, 1000, 1200, 300]\n",
    "\n",
    "print('Median with 12 items: ', calculate_median(donations))\n",
    "print('Median with 13 items: ', calculate_median(donations2))"
   ]
  },
  {
   "cell_type": "markdown",
   "id": "ba817b78-cd6f-4737-897b-d3d3e1ee440c",
   "metadata": {},
   "source": [
    "As you can see, the mean (477.75) and the median (500) are pretty close in this particular list, but the median is a little higher.\n",
    "\n",
    "## the Mode\n",
    "\n",
    "Instead of finding the mean value or the median value of a set of numbers, what if you wanted to find the number that occurs most frequently? This number is called the __mode__. \n",
    "There’s no symbolic formula for calculating the mode—you simply count how many times each unique number occurs and find the one that occurs the most.\n",
    "\n",
    "Finding the most common number in a data set can be thought of as a subproblem of finding an arbitrary number of most common numbers. For instance, instead of the most common score, what if you wanted to know the five most common scores? The most_common() method of the Counter class allows us to answer such questions easily."
   ]
  },
  {
   "cell_type": "code",
   "execution_count": 11,
   "id": "1921a819-91d7-4621-bca4-6ad54224c48f",
   "metadata": {},
   "outputs": [
    {
     "name": "stdout",
     "output_type": "stream",
     "text": [
      "[(4, 2), (2, 1), (1, 1), (3, 1)]\n"
     ]
    }
   ],
   "source": [
    "from collections import Counter\n",
    "\n",
    "simplelist = [4, 2, 1, 3, 4]\n",
    "c = Counter(simplelist)\n",
    "print(c.most_common())\n"
   ]
  },
  {
   "cell_type": "markdown",
   "id": "bb1f1583-d596-4990-83c2-df8766e78b45",
   "metadata": {},
   "source": [
    "Each member of the list is a tuple. The first element of the first tuple is the number that occurs most frequently, and the second element is the number of times it occurs. The second, third, and fourth tuples contain the other numbers along with the count of the number of times they appear.\n",
    "\n",
    "When you call the most_common() method, you can also provide an argument telling it the number of most common elements you want it to return. For example, if we just wanted to find the most common element, we would call it with the argument 1:"
   ]
  },
  {
   "cell_type": "code",
   "execution_count": 12,
   "id": "d216036a-76a3-4303-b069-889b2afeabd6",
   "metadata": {},
   "outputs": [
    {
     "name": "stdout",
     "output_type": "stream",
     "text": [
      "[(4, 2)]\n"
     ]
    }
   ],
   "source": [
    "print(c.most_common(1))"
   ]
  },
  {
   "cell_type": "markdown",
   "id": "93446d65-5071-4b7d-b804-c034cef805df",
   "metadata": {},
   "source": [
    "The most_common() method returns both the numbers and the number of times they occur. What if we want only the numbers and we don’t care about the number of times they occur? Here’s how we can retrieve that information:"
   ]
  },
  {
   "cell_type": "code",
   "execution_count": 13,
   "id": "07954ea3-53aa-4dae-8c91-8ad36c6c464e",
   "metadata": {},
   "outputs": [
    {
     "name": "stdout",
     "output_type": "stream",
     "text": [
      "4\n"
     ]
    }
   ],
   "source": [
    "mode = c.most_common(1)\n",
    "print(mode[0][0])"
   ]
  },
  {
   "cell_type": "markdown",
   "id": "e054b531-a750-4a57-b0de-205b95b10f82",
   "metadata": {},
   "source": [
    "We’re ready to write a program that finds the mode for a list of numbers:"
   ]
  },
  {
   "cell_type": "code",
   "execution_count": 17,
   "id": "e0baf204-fc9e-4ce6-b231-5c8f59e06e51",
   "metadata": {},
   "outputs": [
    {
     "name": "stdout",
     "output_type": "stream",
     "text": [
      "The mode of the list of number is 9\n"
     ]
    }
   ],
   "source": [
    "'''\n",
    "Calculating the mode\n",
    "'''\n",
    "\n",
    "from collections import Counter\n",
    "\n",
    "def calculate_mode(numbers):\n",
    "    c = Counter(numbers)\n",
    "    mode = c.most_common(1)\n",
    "    return (mode[0][0])\n",
    "\n",
    "number_list = [7, 8, 9, 2, 10, 9, 9, 9, 9, 4, 5, 6, 1, 5, 6, 7, 8, 6, 1, 10]\n",
    "mode = calculate_mode(number_list)\n",
    "\n",
    "print('The mode of the list of number is {0}'.format(mode))"
   ]
  },
  {
   "cell_type": "markdown",
   "id": "e8886b34-e0c1-454a-a211-7e38eefa78b7",
   "metadata": {},
   "source": [
    "The calculate_mode() function finds and returns the mode of the numbers passed to it as a parameter.\n",
    "\n",
    "What if you have a set of data where two or more numbers occur the same maximum number of times? In such cases,\n",
    "the list of numbers is said to have multiple modes, and our program should find and print all the modes. So, we have:"
   ]
  },
  {
   "cell_type": "code",
   "execution_count": 18,
   "id": "5e9490ea-3eb6-4c44-be7d-67b7e7adfe51",
   "metadata": {},
   "outputs": [
    {
     "name": "stdout",
     "output_type": "stream",
     "text": [
      "The mode(s) of the list of numbers are:\n",
      "5\n",
      "4\n"
     ]
    }
   ],
   "source": [
    "'''\n",
    "Having multiple modes\n",
    "'''\n",
    "from collections import Counter\n",
    "\n",
    "def calculate_mode(numbers):\n",
    "    c = Counter(numbers)\n",
    "    numbers_freq = c.most_common()\n",
    "    max_count = numbers_freq[0][1]\n",
    "\n",
    "    modes = []\n",
    "    for num in numbers_freq:\n",
    "        if num[1] == max_count:\n",
    "            modes.append(num[0])\n",
    "\n",
    "    return modes\n",
    "\n",
    "number_list = [5, 5, 5, 4, 4, 4, 9, 1, 3]\n",
    "modes = calculate_mode(number_list)\n",
    "print('The mode(s) of the list of numbers are:')\n",
    "\n",
    "for mode in modes:\n",
    "    print(mode)\n",
    "    "
   ]
  },
  {
   "cell_type": "markdown",
   "id": "a11b0d0a-c165-42a1-98c9-4e9a027f027a",
   "metadata": {},
   "source": [
    "## Topics to Dive Into\n",
    "\n",
    "- [Frequency Table](frequency_table.ipynb)\n",
    "\n",
    "- [The Dispersion](dispersion.ipynb)\n",
    "---\n",
    "[Main Page](../README.md)"
   ]
  }
 ],
 "metadata": {
  "kernelspec": {
   "display_name": "Python 3 (ipykernel)",
   "language": "python",
   "name": "python3"
  },
  "language_info": {
   "codemirror_mode": {
    "name": "ipython",
    "version": 3
   },
   "file_extension": ".py",
   "mimetype": "text/x-python",
   "name": "python",
   "nbconvert_exporter": "python",
   "pygments_lexer": "ipython3",
   "version": "3.10.12"
  }
 },
 "nbformat": 4,
 "nbformat_minor": 5
}
