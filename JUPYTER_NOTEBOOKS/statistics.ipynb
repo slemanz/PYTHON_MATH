{
 "cells": [
  {
   "cell_type": "markdown",
   "id": "23d0b2b0-8835-4b5f-b1f2-394e5ce497a7",
   "metadata": {},
   "source": [
    "# Describing Data with Statistics\n",
    "\n",
    "With statistics we can study, describe, and better understand sets of data.\n",
    "\n",
    "## The Mean\n",
    "\n",
    "The mean is a common and intuitive way to summarize a set of numbers. It’s what we might simply call the __“average”__ in everyday use, although as we’ll see, there are other kinds of averages as well. Let’s take a sample set of numbers and calculate the mean.\n",
    "\n",
    "We’ll write a program that calculates and prints the mean for a collection of numbers. To calculate the mean, we’ll need to take the sum of the list of numbers and divide it by the number of items in the list. We have two Python functions that make both of these operations very easy: sum() and len(). So our code will look like:"
   ]
  },
  {
   "cell_type": "code",
   "execution_count": 5,
   "id": "6c2aab05-f649-4dbf-82f3-76857fbfa779",
   "metadata": {},
   "outputs": [
    {
     "name": "stdout",
     "output_type": "stream",
     "text": [
      "The mean of our set of data is 477.75.\n"
     ]
    }
   ],
   "source": [
    "'''\n",
    "Calculating the mean\n",
    "'''\n",
    "\n",
    "def calculate_mean(numbers):\n",
    "    s = sum(numbers)\n",
    "    N = len(numbers)\n",
    "\n",
    "    mean = s/N\n",
    "    return mean\n",
    "\n",
    "donations = [100, 60, 70, 900, 100, 200, 500, 500, 503, 600, 1000, 1200]\n",
    "mean = calculate_mean(donations)\n",
    "\n",
    "print(\"The mean of our set of data is {:.2f}.\".format(mean))"
   ]
  },
  {
   "cell_type": "markdown",
   "id": "768ac0a1-4ef5-4b48-86fa-32d3ab6edab6",
   "metadata": {},
   "source": [
    "The calculate_mean() function will calculate the sum and length of any list, so we can reuse it to calculate the mean for other sets of numbers, too.\n",
    "\n",
    "## The Median\n",
    "\n",
    "The median of a collection of numbers is another kind of average. To find the median, we sort the numbers in ascending order. If the length of the list of numbers is odd, the number in the middle of the list is the median. If the length of the list of numbers is even, we get the median by taking the mean of the two middle numbers. Let’s find the median of the previous list of donations (assume, just for this example that we have another donation total for the 13th).\n",
    "\n",
    "Before we write a program to find the median of a list of numbers, let’s think about how we could automatically calculate the middle elements of a list in either case. If the length of a list ($N$) is odd, the middle number is the one in position $(N + 1)/2$. If $N$ is even, the two middle elements are $N/2$ and $(N/2) + 1$.\n",
    "\n",
    "In order to write a function that calculates the median, we’ll also need to sort a list in ascending order. Luckily, the sort() method does just that, so our program will look like:"
   ]
  },
  {
   "cell_type": "code",
   "execution_count": 10,
   "id": "e79e5c28-6c77-4c61-ad97-82de4e2b741a",
   "metadata": {},
   "outputs": [
    {
     "name": "stdout",
     "output_type": "stream",
     "text": [
      "Median with 12 items:  500.0\n",
      "Median with 13 items:  500\n"
     ]
    }
   ],
   "source": [
    "'''\n",
    "Calcultating the median\n",
    "'''\n",
    "\n",
    "def calculate_median(numbers):\n",
    "    N = len(numbers)\n",
    "    numbers.sort()\n",
    "\n",
    "    if (N % 2) == 0:\n",
    "        # N is even \n",
    "        m1 = N/2\n",
    "        m2 = (N+1)/2\n",
    "        \n",
    "        # convert to integer and list match position\n",
    "        m1 = int(m1) - 1\n",
    "        m2 = int(m2) - 1\n",
    "        median = (numbers[m1] + numbers[m2])/2\n",
    "    else:\n",
    "        m = (N/2) + 1\n",
    "        # convert to integer, match position\n",
    "        m = int(m) - 1\n",
    "        median = numbers[m]\n",
    "\n",
    "    return median\n",
    "\n",
    "donations = [100, 60, 70, 900, 100, 200, 500, 500, 503, 600, 1000, 1200]\n",
    "donations2 = [100, 60, 70, 900, 100, 200, 500, 500, 503, 600, 1000, 1200, 300]\n",
    "\n",
    "print('Median with 12 items: ', calculate_median(donations))\n",
    "print('Median with 13 items: ', calculate_median(donations2))"
   ]
  },
  {
   "cell_type": "markdown",
   "id": "ba817b78-cd6f-4737-897b-d3d3e1ee440c",
   "metadata": {},
   "source": [
    "As you can see, the mean (477.75) and the median (500) are pretty close in this particular list, but the median is a little higher."
   ]
  },
  {
   "cell_type": "code",
   "execution_count": null,
   "id": "1921a819-91d7-4621-bca4-6ad54224c48f",
   "metadata": {},
   "outputs": [],
   "source": []
  }
 ],
 "metadata": {
  "kernelspec": {
   "display_name": "Python 3 (ipykernel)",
   "language": "python",
   "name": "python3"
  },
  "language_info": {
   "codemirror_mode": {
    "name": "ipython",
    "version": 3
   },
   "file_extension": ".py",
   "mimetype": "text/x-python",
   "name": "python",
   "nbconvert_exporter": "python",
   "pygments_lexer": "ipython3",
   "version": "3.10.12"
  }
 },
 "nbformat": 4,
 "nbformat_minor": 5
}
