{
 "cells": [
  {
   "cell_type": "markdown",
   "id": "b2293739-1c19-41af-a746-213708fcb912",
   "metadata": {},
   "source": [
    "# Converting Strings to Mathematical Expressions\n",
    "\n",
    "What if you wanted to write a more general program that could manipulate any expression provided by the user? For that, we need a way to convert a user’s input, which is a string, into something we can perform mathematical operations on. SymPy’s ``sympify()`` function helps us do exactly that.\n",
    "\n",
    "Here a example of program:"
   ]
  },
  {
   "cell_type": "code",
   "execution_count": 7,
   "id": "90e96bd3-a61b-40b3-af9d-83c0a5840b97",
   "metadata": {},
   "outputs": [
    {
     "name": "stdin",
     "output_type": "stream",
     "text": [
      "Enter the first expression:  10*x\n",
      "Enter the second expression:  2*x\n"
     ]
    },
    {
     "name": "stdout",
     "output_type": "stream",
     "text": [
      "    2\n",
      "20⋅x \n"
     ]
    }
   ],
   "source": [
    "'''\n",
    "    Manipulating two expressions inputs\n",
    "'''\n",
    "\n",
    "from sympy import expand, sympify, pprint\n",
    "from sympy.core.sympify import SympifyError\n",
    "\n",
    "def product(expr1, expr2):\n",
    "    prod = expand(expr1*expr2)\n",
    "    return prod\n",
    "\n",
    "expr1 = input('Enter the first expression: ')\n",
    "expr2 = input('Enter the second expression: ')\n",
    "\n",
    "try:\n",
    "    expr1 = sympify(expr1)\n",
    "    expr2 = sympify(expr2)\n",
    "except SympifyError:\n",
    "    print('Invalid input')\n",
    "else:\n",
    "    pprint(product(expr1, expr2))"
   ]
  },
  {
   "cell_type": "markdown",
   "id": "151e3041-948c-4a09-a80e-6a71ce13b92a",
   "metadata": {},
   "source": [
    "---\n",
    "\n",
    "[Algebra and Symbolic Math with SymPy](symbolic.ipynb)\n",
    "\n",
    "[Main Page](../README.md)"
   ]
  }
 ],
 "metadata": {
  "kernelspec": {
   "display_name": "Python 3 (ipykernel)",
   "language": "python",
   "name": "python3"
  },
  "language_info": {
   "codemirror_mode": {
    "name": "ipython",
    "version": 3
   },
   "file_extension": ".py",
   "mimetype": "text/x-python",
   "name": "python",
   "nbconvert_exporter": "python",
   "pygments_lexer": "ipython3",
   "version": "3.10.12"
  }
 },
 "nbformat": 4,
 "nbformat_minor": 5
}
