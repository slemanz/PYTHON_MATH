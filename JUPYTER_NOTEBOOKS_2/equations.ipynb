{
 "cells": [
  {
   "cell_type": "markdown",
   "id": "3d55baef-c298-45a2-a378-f54a53ef9857",
   "metadata": {},
   "source": [
    "# Solving Equations\n",
    "\n",
    "SymPy’s ``solve()`` function can be used to find solutions to equations. When you input an expression with a symbol representing a variable, such as x, ``solve()`` calculates the value of that symbol. This function always makes its calculation by assuming the expression you enter is equal to zero"
   ]
  },
  {
   "cell_type": "code",
   "execution_count": 2,
   "id": "39bdb34f-3e17-4feb-bc27-a83067f7fe99",
   "metadata": {},
   "outputs": [
    {
     "name": "stdout",
     "output_type": "stream",
     "text": [
      "[12]\n"
     ]
    }
   ],
   "source": [
    "from sympy import Symbol, solve\n",
    "\n",
    "x = Symbol('x')\n",
    "expr = x - 5 - 7\n",
    "print(solve(expr))"
   ]
  },
  {
   "cell_type": "markdown",
   "id": "63ab2f4b-b76d-416f-812e-4a8b55182d1c",
   "metadata": {},
   "source": [
    "## Solving Quadratic Equations\n",
    "\n",
    "We can use SymPy’s ``solve()`` function to find the roots of a quadratic equation easily, without needing to write out the formulas."
   ]
  },
  {
   "cell_type": "code",
   "execution_count": 5,
   "id": "07f530ca-b395-404c-9e8f-c038d71a263b",
   "metadata": {},
   "outputs": [
    {
     "name": "stdout",
     "output_type": "stream",
     "text": [
      "[{x: -4}, {x: -1}]\n"
     ]
    }
   ],
   "source": [
    "x = Symbol('x')\n",
    "expr = x**2 + 5*x + 4\n",
    "roots = solve(expr, dict=True)\n",
    "\n",
    "print(roots)"
   ]
  },
  {
   "cell_type": "markdown",
   "id": "2b8b25ef-d1e0-4622-8c52-038b9b736202",
   "metadata": {},
   "source": [
    "The function (dict=True) specifies that we want the result to be returned as a list of Python dictionaries.\n",
    "\n",
    "If we find a complex root, will seems like:"
   ]
  },
  {
   "cell_type": "code",
   "execution_count": 6,
   "id": "e16077b1-b69f-48e4-8cdf-0627b3ca4a40",
   "metadata": {},
   "outputs": [
    {
     "name": "stdout",
     "output_type": "stream",
     "text": [
      "[{x: -1/2 - sqrt(3)*I/2}, {x: -1/2 + sqrt(3)*I/2}]\n"
     ]
    }
   ],
   "source": [
    "x = Symbol('x')\n",
    "expr = x**2 + x + 1\n",
    "roots = solve(expr, dict=True)\n",
    "\n",
    "print(roots)"
   ]
  },
  {
   "cell_type": "code",
   "execution_count": null,
   "id": "5ca9e800-748d-4d42-a084-227925040cff",
   "metadata": {},
   "outputs": [],
   "source": []
  }
 ],
 "metadata": {
  "kernelspec": {
   "display_name": "Python 3 (ipykernel)",
   "language": "python",
   "name": "python3"
  },
  "language_info": {
   "codemirror_mode": {
    "name": "ipython",
    "version": 3
   },
   "file_extension": ".py",
   "mimetype": "text/x-python",
   "name": "python",
   "nbconvert_exporter": "python",
   "pygments_lexer": "ipython3",
   "version": "3.10.12"
  }
 },
 "nbformat": 4,
 "nbformat_minor": 5
}
