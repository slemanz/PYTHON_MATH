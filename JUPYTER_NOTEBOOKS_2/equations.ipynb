{
 "cells": [
  {
   "cell_type": "markdown",
   "id": "3d55baef-c298-45a2-a378-f54a53ef9857",
   "metadata": {},
   "source": [
    "# Solving Equations\n",
    "\n",
    "SymPy’s ``solve()`` function can be used to find solutions to equations. When you input an expression with a symbol representing a variable, such as x, ``solve()`` calculates the value of that symbol. This function always makes its calculation by assuming the expression you enter is equal to zero"
   ]
  },
  {
   "cell_type": "code",
   "execution_count": 1,
   "id": "39bdb34f-3e17-4feb-bc27-a83067f7fe99",
   "metadata": {},
   "outputs": [
    {
     "name": "stdout",
     "output_type": "stream",
     "text": [
      "[12]\n"
     ]
    }
   ],
   "source": [
    "from sympy import Symbol, solve, pprint\n",
    "\n",
    "x = Symbol('x')\n",
    "expr = x - 5 - 7\n",
    "print(solve(expr))"
   ]
  },
  {
   "cell_type": "markdown",
   "id": "63ab2f4b-b76d-416f-812e-4a8b55182d1c",
   "metadata": {},
   "source": [
    "## Solving Quadratic Equations\n",
    "\n",
    "We can use SymPy’s ``solve()`` function to find the roots of a quadratic equation easily, without needing to write out the formulas."
   ]
  },
  {
   "cell_type": "code",
   "execution_count": 5,
   "id": "07f530ca-b395-404c-9e8f-c038d71a263b",
   "metadata": {},
   "outputs": [
    {
     "name": "stdout",
     "output_type": "stream",
     "text": [
      "[{x: -4}, {x: -1}]\n"
     ]
    }
   ],
   "source": [
    "x = Symbol('x')\n",
    "expr = x**2 + 5*x + 4\n",
    "roots = solve(expr, dict=True)\n",
    "\n",
    "print(roots)"
   ]
  },
  {
   "cell_type": "markdown",
   "id": "2b8b25ef-d1e0-4622-8c52-038b9b736202",
   "metadata": {},
   "source": [
    "The function (dict=True) specifies that we want the result to be returned as a list of Python dictionaries.\n",
    "\n",
    "If we find a complex root, will seems like:"
   ]
  },
  {
   "cell_type": "code",
   "execution_count": 6,
   "id": "e16077b1-b69f-48e4-8cdf-0627b3ca4a40",
   "metadata": {},
   "outputs": [
    {
     "name": "stdout",
     "output_type": "stream",
     "text": [
      "[{x: -1/2 - sqrt(3)*I/2}, {x: -1/2 + sqrt(3)*I/2}]\n"
     ]
    }
   ],
   "source": [
    "x = Symbol('x')\n",
    "expr = x**2 + x + 1\n",
    "roots = solve(expr, dict=True)\n",
    "\n",
    "print(roots)"
   ]
  },
  {
   "cell_type": "markdown",
   "id": "6b5d15e5-f61d-44ab-a489-67e4ac4bcc88",
   "metadata": {},
   "source": [
    "## Solving for One Variable in Terms of Others\n",
    "\n",
    "We can take advantage of symbolic math to use the ``solve()`` function to express one variable in an equation in terms of the others."
   ]
  },
  {
   "cell_type": "code",
   "execution_count": 7,
   "id": "cfb32074-1b78-412c-a095-1f7d60267e49",
   "metadata": {},
   "outputs": [
    {
     "name": "stdout",
     "output_type": "stream",
     "text": [
      "⎡⎧           _____________⎫  ⎧           _____________⎫⎤\n",
      "⎢⎪          ╱           2 ⎪  ⎪          ╱           2 ⎪⎥\n",
      "⎢⎨   -b - ╲╱  -4⋅a⋅c + b  ⎬  ⎨   -b + ╲╱  -4⋅a⋅c + b  ⎬⎥\n",
      "⎢⎪x: ─────────────────────⎪, ⎪x: ─────────────────────⎪⎥\n",
      "⎣⎩            2⋅a         ⎭  ⎩            2⋅a         ⎭⎦\n"
     ]
    }
   ],
   "source": [
    "a = Symbol('a')\n",
    "b = Symbol('b')\n",
    "c = Symbol('c')\n",
    "\n",
    "x = Symbol('x')\n",
    "\n",
    "\n",
    "expr = a*x**2 + b*x + c\n",
    "x_expr = solve(expr,x, dict=True)\n",
    "pprint(x_expr)"
   ]
  },
  {
   "cell_type": "markdown",
   "id": "8771af83-c108-4458-9f2c-caed05d99d95",
   "metadata": {},
   "source": [
    "## Solving a System of Linear Equations\n",
    "\n",
    "Consider the following two equations:\n",
    "\n",
    "$$ 2x + 3y = 6$$\n",
    "\n",
    "$$ 3x + 2y = 12 $$\n",
    "\n",
    "We want to find the pair of values $(x, y)$ that satisfies both the equations. We can use the ``solve()`` function to find the solution for a system of equations like this one. For this, we have:"
   ]
  },
  {
   "cell_type": "code",
   "execution_count": 9,
   "id": "3873e9c3-316b-4531-ab69-578f93adecd4",
   "metadata": {},
   "outputs": [
    {
     "name": "stdout",
     "output_type": "stream",
     "text": [
      "[{x: 24/5, y: -6/5}]\n"
     ]
    }
   ],
   "source": [
    "x = Symbol('x')\n",
    "y = Symbol('y')\n",
    "expr1 = 2*x + 3*y - 6\n",
    "expr2 = 3*x + 2*y - 12\n",
    "\n",
    "solution = solve((expr1, expr2), dict=True)\n",
    "pprint(solution)\n",
    "\n"
   ]
  },
  {
   "cell_type": "markdown",
   "id": "924930e4-8e12-43be-afca-39082005ca06",
   "metadata": {},
   "source": [
    "---\n",
    "\n",
    "[Main Page](../README.md)"
   ]
  }
 ],
 "metadata": {
  "kernelspec": {
   "display_name": "Python 3 (ipykernel)",
   "language": "python",
   "name": "python3"
  },
  "language_info": {
   "codemirror_mode": {
    "name": "ipython",
    "version": 3
   },
   "file_extension": ".py",
   "mimetype": "text/x-python",
   "name": "python",
   "nbconvert_exporter": "python",
   "pygments_lexer": "ipython3",
   "version": "3.10.12"
  }
 },
 "nbformat": 4,
 "nbformat_minor": 5
}
