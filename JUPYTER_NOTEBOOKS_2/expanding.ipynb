{
 "cells": [
  {
   "cell_type": "markdown",
   "id": "a55e0167-771d-4aa2-ba10-9d4504def0ac",
   "metadata": {},
   "source": [
    "# Factorizing and Expanding Expressions\n",
    "\n",
    "The ``factor()`` function decomposes an expression into its factors, and the ``expand()`` function expands an expression, expressing it as a sum of individual terms. Let’s test out these functions with the basic algebraic identity:"
   ]
  },
  {
   "cell_type": "code",
   "execution_count": 7,
   "id": "28a98488-1da2-4682-9e1a-bc5995effd91",
   "metadata": {},
   "outputs": [
    {
     "name": "stdout",
     "output_type": "stream",
     "text": [
      "(x - y)*(x + y)\n"
     ]
    }
   ],
   "source": [
    "from sympy import Symbol, factor, expand\n",
    "\n",
    "x = Symbol('x')\n",
    "y = Symbol('y')\n",
    "\n",
    "expr = x**2 - y**2\n",
    "fact = factor(expr)\n",
    "\n",
    "print(fact)"
   ]
  },
  {
   "cell_type": "markdown",
   "id": "1bce5078-8abe-4a1c-b6e2-c822a3a73d0a",
   "metadata": {},
   "source": [
    "As expected, we get the factored version of the expression. Now let’s expand the factors to get back the original expanded version:"
   ]
  },
  {
   "cell_type": "code",
   "execution_count": 8,
   "id": "bee364c6-47ea-41f5-b024-5492cda2400a",
   "metadata": {},
   "outputs": [
    {
     "name": "stdout",
     "output_type": "stream",
     "text": [
      "x**2 - y**2\n"
     ]
    }
   ],
   "source": [
    "exp = expand(fact)\n",
    "print(exp)"
   ]
  },
  {
   "cell_type": "markdown",
   "id": "d6656b5e-67c3-42d7-8660-d611308997e4",
   "metadata": {},
   "source": [
    "Let’s try it with the more complicated identity:"
   ]
  },
  {
   "cell_type": "code",
   "execution_count": 11,
   "id": "04171a83-1e78-4cfa-91f6-bd6917ee24ad",
   "metadata": {},
   "outputs": [
    {
     "name": "stdout",
     "output_type": "stream",
     "text": [
      "(x + y)**3\n",
      "x**3 + 3*x**2*y + 3*x*y**2 + y**3\n"
     ]
    }
   ],
   "source": [
    "expr = x**3 + 3*x**2*y + 3*x*y**2 + y**3\n",
    "factors = factor(expr)\n",
    "print(factors)\n",
    "print(expand(factors))"
   ]
  },
  {
   "cell_type": "markdown",
   "id": "eadbe016-698f-496c-a663-b282e0232c8a",
   "metadata": {},
   "source": [
    "The ``factor()`` function is able to factorize the expression, and then the ``expand()`` function expands the factorized expression to return to the original expression.\n",
    "\n",
    "If you try to factorize an expression for which there’s no possible factorization, the original expression is returned by the ``factor()`` function (as equal for ``expand()``).\n",
    "\n",
    "---\n",
    "\n",
    "[Algebra and Symbolic Math with SymPy](symbolic.ipynb)\n",
    "[Main Page](../README.md)"
   ]
  }
 ],
 "metadata": {
  "kernelspec": {
   "display_name": "Python 3 (ipykernel)",
   "language": "python",
   "name": "python3"
  },
  "language_info": {
   "codemirror_mode": {
    "name": "ipython",
    "version": 3
   },
   "file_extension": ".py",
   "mimetype": "text/x-python",
   "name": "python",
   "nbconvert_exporter": "python",
   "pygments_lexer": "ipython3",
   "version": "3.10.12"
  }
 },
 "nbformat": 4,
 "nbformat_minor": 5
}
