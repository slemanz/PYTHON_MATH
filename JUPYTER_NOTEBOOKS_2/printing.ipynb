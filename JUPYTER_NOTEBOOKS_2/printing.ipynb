{
 "cells": [
  {
   "cell_type": "markdown",
   "id": "44e8ac9d-6cdb-43ef-9cb8-e17f42c12e3a",
   "metadata": {},
   "source": [
    "# Pretty Printing\n",
    "\n",
    "If you want the expressions we’ve been working with to look a bit nicer when you print them, you can use the pprint() function. This function will print the expression in a way that more closely resembles how we’d normally write it on paper."
   ]
  },
  {
   "cell_type": "code",
   "execution_count": 7,
   "id": "48976658-a773-4d0b-824f-56d447fe8d1b",
   "metadata": {},
   "outputs": [
    {
     "name": "stdout",
     "output_type": "stream",
     "text": [
      "x**2 + 2*x*y + y**2\n",
      "\n",
      "\n",
      " 2            2\n",
      "x  + 2⋅x⋅y + y \n"
     ]
    }
   ],
   "source": [
    "from sympy import Symbol, pprint, init_printing\n",
    "\n",
    "x = Symbol('x')\n",
    "y = Symbol('y')\n",
    "\n",
    "expr = x**2 + 2*x*y + y**2\n",
    "\n",
    "print(expr)\n",
    "print('\\n')\n",
    "pprint(expr)"
   ]
  },
  {
   "cell_type": "markdown",
   "id": "59592b7a-59e7-44c0-94cd-89ccf760a403",
   "metadata": {},
   "source": [
    "The expression now looks much cleaner!\n",
    "\n",
    "You can also change the order of the terms when you print an expression."
   ]
  },
  {
   "cell_type": "code",
   "execution_count": 8,
   "id": "0bdf5250-4080-42b3-b01c-0e75ea4a4c79",
   "metadata": {},
   "outputs": [
    {
     "name": "stdout",
     "output_type": "stream",
     "text": [
      " 2            2\n",
      "x  + 2⋅x⋅y + y \n",
      " 2            2\n",
      "y  + 2⋅x⋅y + x \n"
     ]
    }
   ],
   "source": [
    "pprint(expr)\n",
    "init_printing(order='rev-lex')\n",
    "pprint(expr)"
   ]
  },
  {
   "cell_type": "markdown",
   "id": "116aab10-2407-487b-9482-0d47074a8db8",
   "metadata": {},
   "source": [
    "## Printing a Series\n",
    "\n",
    "Write a program that will ask a user to input a number, $n$, and print this series for that number. In the series, $x$ is a symbol and n is an integer input by the program’s user. The nth term in this series is given by:\n",
    "\n",
    "$$\\dfrac{x^n}{n}$$\n",
    "\n"
   ]
  },
  {
   "cell_type": "code",
   "execution_count": 10,
   "id": "d2b18257-64d8-4841-8907-0a2f1a92704f",
   "metadata": {},
   "outputs": [
    {
     "name": "stdout",
     "output_type": "stream",
     "text": [
      "To do\n"
     ]
    }
   ],
   "source": [
    "'''\n",
    "Print the series\n",
    "'''\n",
    "\n",
    "print(\"To do\")"
   ]
  }
 ],
 "metadata": {
  "kernelspec": {
   "display_name": "Python 3 (ipykernel)",
   "language": "python",
   "name": "python3"
  },
  "language_info": {
   "codemirror_mode": {
    "name": "ipython",
    "version": 3
   },
   "file_extension": ".py",
   "mimetype": "text/x-python",
   "name": "python",
   "nbconvert_exporter": "python",
   "pygments_lexer": "ipython3",
   "version": "3.10.12"
  }
 },
 "nbformat": 4,
 "nbformat_minor": 5
}
