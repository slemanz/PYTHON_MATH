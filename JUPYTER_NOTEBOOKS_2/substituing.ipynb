{
 "cells": [
  {
   "cell_type": "markdown",
   "id": "d9a11dfd-5c51-4755-88a0-8ff93b46a879",
   "metadata": {},
   "source": [
    "# Substituting in Values\n",
    "\n",
    "We can use SymPy to plug values into an algebraic expression. This will let us calculate the value of the expression for certain values of the variables."
   ]
  },
  {
   "cell_type": "code",
   "execution_count": 11,
   "id": "0dd6b6d8-b040-4089-b3bf-d88ac62900ed",
   "metadata": {},
   "outputs": [
    {
     "name": "stdout",
     "output_type": "stream",
     "text": [
      " 2            2\n",
      "x  + 2⋅x⋅y + y \n",
      "\n",
      "If x = 1 and y = 2, the result: 9\n"
     ]
    }
   ],
   "source": [
    "from sympy import Symbol, pprint, simplify\n",
    "\n",
    "x = Symbol('x')\n",
    "y = Symbol('y')\n",
    "\n",
    "expr = x*x + x*y + x*y + y*y\n",
    "pprint(expr)\n",
    "print('\\nIf x = 1 and y = 2, the result: ', end='')\n",
    "\n",
    "res = expr.subs({x:1, y:2})\n",
    "pprint(res)"
   ]
  },
  {
   "cell_type": "markdown",
   "id": "f6b7c03b-1e7a-4db0-9adc-0fe50901b425",
   "metadata": {},
   "source": [
    "The ``subs()`` method is a Python dictionary, which contains the two symbol labels and the numerical values we want to substitute in for each symbol.\n",
    "\n",
    "You can also express one symbol in terms of another and substitute accordingly, using the ``subs()`` method. For example, if you knew that:\n",
    " $x = 1 − y$"
   ]
  },
  {
   "cell_type": "code",
   "execution_count": 12,
   "id": "03ba1697-fb63-4573-89ea-b71865c70cb8",
   "metadata": {},
   "outputs": [
    {
     "name": "stdout",
     "output_type": "stream",
     "text": [
      " 2                        2\n",
      "y  + 2⋅y⋅(y - 1) + (y - 1) \n"
     ]
    }
   ],
   "source": [
    "pprint(expr.subs({x:y-1}))"
   ]
  },
  {
   "cell_type": "markdown",
   "id": "a7794a99-7207-4031-882e-90ed5e7744dc",
   "metadata": {},
   "source": [
    "If you want the result to be simplified further—for example, if there are terms that cancel each other out, we can use SymPy’s ``simplify()`` function, as follows:"
   ]
  },
  {
   "cell_type": "code",
   "execution_count": 14,
   "id": "db5e1b2f-49ee-4e69-93e4-83c5f8b44444",
   "metadata": {},
   "outputs": [
    {
     "name": "stdout",
     "output_type": "stream",
     "text": [
      " 2                        2\n",
      "y  + 2⋅y⋅(1 - y) + (1 - y) \n",
      "1\n"
     ]
    }
   ],
   "source": [
    "expr_subs = expr.subs({x:1-y})\n",
    "pprint(expr_subs)\n",
    "pprint(expr_subs.simplify())"
   ]
  },
  {
   "cell_type": "markdown",
   "id": "81745344-e5bd-4579-a6ae-92d95f8558cf",
   "metadata": {},
   "source": [
    "The result turns out to be 1 because the other terms of the expression cancel each other.\n",
    "\n",
    "## Calculating the Value of a Series\n",
    "\n",
    "In addition to printing the series, we want our program to be able to find the value of the series for a particular value of x. So, we have:"
   ]
  },
  {
   "cell_type": "code",
   "execution_count": 6,
   "id": "eb46bcbd-7df5-45ee-adf1-132a13bec543",
   "metadata": {},
   "outputs": [
    {
     "name": "stdout",
     "output_type": "stream",
     "text": [
      "     2    3    4    5\n",
      "    x    x    x    x \n",
      "x + ── + ── + ── + ──\n",
      "    2    3    4    5 \n",
      "Value of series at 2: 256/15\n",
      "     2    3    4    5\n",
      "    x    x    x    x \n",
      "x + ── + ── + ── + ──\n",
      "    2    3    4    5 \n",
      "Value of series at 2.0: 17.0666666666667\n"
     ]
    }
   ],
   "source": [
    "from sympy import Symbol, pprint, init_printing\n",
    "\n",
    "def print_series(n, x_value):\n",
    "    init_printing(order='rev-lex')\n",
    "\n",
    "    x = Symbol('x')\n",
    "    series = x\n",
    "    for i in range(2, n+1):\n",
    "        series = series + (x**i)/i\n",
    "\n",
    "    pprint(series)\n",
    "    series_value = series.subs({x:x_value})\n",
    "    print(\"Value of series at {}: {}\".format(x_value, series_value))\n",
    "\n",
    "n = 5\n",
    "x_value = 2\n",
    "\n",
    "print_series(n, x_value)\n",
    "\n",
    "x_value = 2.0\n",
    "print_series(n, x_value)"
   ]
  },
  {
   "cell_type": "markdown",
   "id": "06331aad-48fe-416c-920b-11d250020d66",
   "metadata": {},
   "source": [
    "---\n",
    "\n",
    "[Algebra and Symbolic Math with SymPy](symbolic.ipynb)\n",
    "\n",
    "[Main Page](../README.md)"
   ]
  }
 ],
 "metadata": {
  "kernelspec": {
   "display_name": "Python 3 (ipykernel)",
   "language": "python",
   "name": "python3"
  },
  "language_info": {
   "codemirror_mode": {
    "name": "ipython",
    "version": 3
   },
   "file_extension": ".py",
   "mimetype": "text/x-python",
   "name": "python",
   "nbconvert_exporter": "python",
   "pygments_lexer": "ipython3",
   "version": "3.10.12"
  }
 },
 "nbformat": 4,
 "nbformat_minor": 5
}
