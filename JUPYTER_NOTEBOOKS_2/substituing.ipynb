{
 "cells": [
  {
   "cell_type": "markdown",
   "id": "d9a11dfd-5c51-4755-88a0-8ff93b46a879",
   "metadata": {},
   "source": [
    "# Substituting in Values\n",
    "\n",
    "We can use SymPy to plug values into an algebraic expression. This will let us calculate the value of the expression for certain values of the variables."
   ]
  },
  {
   "cell_type": "code",
   "execution_count": 10,
   "id": "0dd6b6d8-b040-4089-b3bf-d88ac62900ed",
   "metadata": {},
   "outputs": [
    {
     "name": "stdout",
     "output_type": "stream",
     "text": [
      " 2            2\n",
      "x  + 2⋅x⋅y + y \n",
      "\n",
      "If x = 1 and y = 2, the result: 9\n"
     ]
    }
   ],
   "source": [
    "from sympy import Symbol, pprint\n",
    "\n",
    "x = Symbol('x')\n",
    "y = Symbol('y')\n",
    "\n",
    "expr = x*x + x*y + x*y + y*y\n",
    "pprint(expr)\n",
    "print('\\nIf x = 1 and y = 2, the result: ', end='')\n",
    "\n",
    "res = expr.subs({x:1, y:2})\n",
    "pprint(res)"
   ]
  }
 ],
 "metadata": {
  "kernelspec": {
   "display_name": "Python 3 (ipykernel)",
   "language": "python",
   "name": "python3"
  },
  "language_info": {
   "codemirror_mode": {
    "name": "ipython",
    "version": 3
   },
   "file_extension": ".py",
   "mimetype": "text/x-python",
   "name": "python",
   "nbconvert_exporter": "python",
   "pygments_lexer": "ipython3",
   "version": "3.10.12"
  }
 },
 "nbformat": 4,
 "nbformat_minor": 5
}
