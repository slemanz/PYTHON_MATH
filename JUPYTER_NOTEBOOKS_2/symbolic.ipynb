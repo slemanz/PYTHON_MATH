{
 "cells": [
  {
   "cell_type": "markdown",
   "id": "01979584-57be-42e1-b3d5-7e3383a3f404",
   "metadata": {},
   "source": [
    "# Algebra and Symbolic Math with SymPy\n",
    "\n",
    "There’s another way math is taught, learned, and practiced, and that’s in terms of symbols and the operations between them. Just think of all the $x$s and $y$s in a typical algebra problem. We refer to this type of math as symbolic math. \n",
    "\n",
    "## Defining Symbols and Symbolic Operations\n",
    "\n",
    "Symbols form the building blocks of symbolic math. The term symbol is just a general name for the xs, ys, as, and bs you use in equations and algebraic expressions. Creating and using symbols will let us do things differently than before.\n",
    "\n",
    "SymPy lets us write programs where we can express and evaluate mathematical expressions in terms of such symbols. To use a symbol in your program, you have to create an object of the Symbol class, like this:"
   ]
  },
  {
   "cell_type": "code",
   "execution_count": 2,
   "id": "85074618-3d04-43d9-a5ed-e49096069169",
   "metadata": {},
   "outputs": [],
   "source": [
    "from sympy import Symbol\n",
    "\n",
    "x = Symbol('x')"
   ]
  },
  {
   "cell_type": "markdown",
   "id": "d3c7fdcc-49f4-47c0-beae-09afde412c36",
   "metadata": {},
   "source": [
    "We can now define expressions and equations in terms of this symbol."
   ]
  },
  {
   "cell_type": "code",
   "execution_count": 3,
   "id": "1ab6b7f7-1582-4d85-b0e7-f082cb3b7a1a",
   "metadata": {},
   "outputs": [
    {
     "name": "stdout",
     "output_type": "stream",
     "text": [
      "2*x + 2\n"
     ]
    }
   ],
   "source": [
    "print(x+x+2)"
   ]
  },
  {
   "cell_type": "markdown",
   "id": "ff8c08ad-b517-40eb-945d-e81e299f9a25",
   "metadata": {},
   "source": [
    "This is the same kind of label we’ve used before, except this time it refers to the symbol x instead of a number—more specifically, a Symbol object representing the symbol 'x'."
   ]
  },
  {
   "cell_type": "code",
   "execution_count": 4,
   "id": "fcc804d2-33f8-407c-b25d-570cb0c10226",
   "metadata": {},
   "outputs": [
    {
     "name": "stdout",
     "output_type": "stream",
     "text": [
      "3*x + 3\n"
     ]
    }
   ],
   "source": [
    "a = Symbol('x')\n",
    "print(a+2*a+3)"
   ]
  },
  {
   "cell_type": "markdown",
   "id": "742ae1fc-792e-44c1-baf2-de49b266219e",
   "metadata": {},
   "source": [
    "But, be careful using a non-matching label can be confusing!\n",
    "\n",
    "\n",
    "To define multiple symbols, you can either create separate Symbol objects or use the symbols() function to define them more concisely."
   ]
  },
  {
   "cell_type": "code",
   "execution_count": 5,
   "id": "dfd8681b-87c4-4bed-a74e-b073a12f888a",
   "metadata": {},
   "outputs": [],
   "source": [
    "from sympy import symbols\n",
    "\n",
    "x,y,z = symbols('x,y,z')"
   ]
  },
  {
   "cell_type": "markdown",
   "id": "169c6928-675b-4652-a51a-6d2e0fadd43a",
   "metadata": {},
   "source": [
    "Once you’ve defined symbols, you can carry out basic mathematical operations on them"
   ]
  },
  {
   "cell_type": "code",
   "execution_count": 6,
   "id": "01154216-9dbb-4468-9869-0d4e1bcad75a",
   "metadata": {},
   "outputs": [
    {
     "name": "stdout",
     "output_type": "stream",
     "text": [
      "2*x*y\n"
     ]
    }
   ],
   "source": [
    "s = x*y + x*y\n",
    "print(s)"
   ]
  },
  {
   "cell_type": "markdown",
   "id": "404eb93e-d00f-409d-bc17-6921d8cd05af",
   "metadata": {},
   "source": [
    "Let’s see whether we can find the product of x(x + x):"
   ]
  },
  {
   "cell_type": "code",
   "execution_count": 8,
   "id": "6690b252-cd49-4a26-a28e-3194ecc5716a",
   "metadata": {},
   "outputs": [
    {
     "name": "stdout",
     "output_type": "stream",
     "text": [
      "2*x**2\n"
     ]
    }
   ],
   "source": [
    "p = x*(x+x)\n",
    "print(p)"
   ]
  },
  {
   "cell_type": "markdown",
   "id": "587b4b3f-660d-4ae4-bf39-16695f289b5e",
   "metadata": {},
   "source": [
    "SymPy will automatically make these simple addition and multiplication calculations, but if we enter a more complex expression, it will remain unchanged."
   ]
  },
  {
   "cell_type": "code",
   "execution_count": 9,
   "id": "5000631f-3ffc-4041-9143-5795d6b7c3c8",
   "metadata": {},
   "outputs": [
    {
     "name": "stdout",
     "output_type": "stream",
     "text": [
      "(x + 2)*(x + 3)\n"
     ]
    }
   ],
   "source": [
    "p = (x+2)*(x+3)\n",
    "print(p)"
   ]
  },
  {
   "cell_type": "markdown",
   "id": "12439393-8baf-42f0-bd7f-8d9d10c42c78",
   "metadata": {},
   "source": [
    "You may have expected SymPy to multiply everything out and output.\n",
    "\n",
    "Instead, the expression was printed exactly how we entered it. SymPy automatically simplifies only the most basic of expressions and leaves it to the programmer to explicitly require simplification in cases such as the preceding one. If you want to multiply out the expression to get the expanded version, you’ll have to use the expand() function."
   ]
  },
  {
   "cell_type": "markdown",
   "id": "d6430ffc-8482-44fb-ab24-95d4cb9d91b8",
   "metadata": {},
   "source": [
    "## More topics\n",
    "\n",
    "[Factorizing and Expanding Expressions](expanding.ipynb)\n",
    "\n",
    "[Pretty Printing](printing.ipynb)\n",
    "\n",
    "[Substituting in Values](substituing.ipynb)\n",
    "\n",
    "---\n",
    "[Main Page](../README.md)"
   ]
  }
 ],
 "metadata": {
  "kernelspec": {
   "display_name": "Python 3 (ipykernel)",
   "language": "python",
   "name": "python3"
  },
  "language_info": {
   "codemirror_mode": {
    "name": "ipython",
    "version": 3
   },
   "file_extension": ".py",
   "mimetype": "text/x-python",
   "name": "python",
   "nbconvert_exporter": "python",
   "pygments_lexer": "ipython3",
   "version": "3.10.12"
  }
 },
 "nbformat": 4,
 "nbformat_minor": 5
}
