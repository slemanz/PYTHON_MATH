{
 "cells": [
  {
   "cell_type": "markdown",
   "id": "e0554ea7-09ad-45e9-a384-71b1d54a2f58",
   "metadata": {},
   "source": [
    "# Sub, Super and Power Sets\n",
    "\n",
    "A set, $s$, is a subset of another set, $t$, if all the members of s are also members of $t$."
   ]
  },
  {
   "cell_type": "code",
   "execution_count": 2,
   "id": "ffc5db23-acba-4b5f-8050-ffd49a3059c9",
   "metadata": {},
   "outputs": [
    {
     "name": "stdout",
     "output_type": "stream",
     "text": [
      "True\n",
      "False\n"
     ]
    }
   ],
   "source": [
    "from sympy import FiniteSet\n",
    "\n",
    "s = FiniteSet(1)\n",
    "t = FiniteSet(1,2)\n",
    "\n",
    "print(s.is_subset(t))\n",
    "print(t.is_subset(s))"
   ]
  },
  {
   "cell_type": "markdown",
   "id": "67fa8413-2fc0-463a-b5cc-349ae81260c2",
   "metadata": {},
   "source": [
    "__Note:__  an empty set is a subset of every set. Also, any set is a subset of itself.\n",
    "\n",
    "A set, $t$, is said to be a superset of another set, $s$, if $t$ contains all of the members contained in s."
   ]
  },
  {
   "cell_type": "code",
   "execution_count": 3,
   "id": "46709c7c-a4ec-4a9c-a028-bea14c44fa27",
   "metadata": {},
   "outputs": [
    {
     "name": "stdout",
     "output_type": "stream",
     "text": [
      "False\n",
      "True\n"
     ]
    }
   ],
   "source": [
    "print(s.is_superset(t))\n",
    "print(t.is_superset(s))"
   ]
  },
  {
   "cell_type": "markdown",
   "id": "8052bf06-9ed3-418f-9565-49792d5e4ecd",
   "metadata": {},
   "source": [
    "The power set of a set, $s$, is the set of all possible subsets of $s$. Any set, $s$, has precisely $2^n$ subsets, where $n$ is the cardinality of the set. For example:"
   ]
  },
  {
   "cell_type": "code",
   "execution_count": 4,
   "id": "970f05f3-5fb1-4d0b-a754-6ed4168e6abf",
   "metadata": {},
   "outputs": [
    {
     "name": "stdout",
     "output_type": "stream",
     "text": [
      "FiniteSet(EmptySet, {1}, {2}, {3}, {1, 2}, {1, 3}, {2, 3}, {1, 2, 3})\n"
     ]
    }
   ],
   "source": [
    "s = FiniteSet(1,2,3)\n",
    "ps = s.powerset()\n",
    "\n",
    "print(ps)"
   ]
  },
  {
   "cell_type": "markdown",
   "id": "9aa0cf87-ef60-4042-819a-310a73ab5d16",
   "metadata": {},
   "source": [
    "---\n",
    "\n",
    "[Sets](sets.ipynb)\n",
    "\n",
    "[Main Page](../README.md)"
   ]
  }
 ],
 "metadata": {
  "kernelspec": {
   "display_name": "Python 3 (ipykernel)",
   "language": "python",
   "name": "python3"
  },
  "language_info": {
   "codemirror_mode": {
    "name": "ipython",
    "version": 3
   },
   "file_extension": ".py",
   "mimetype": "text/x-python",
   "name": "python",
   "nbconvert_exporter": "python",
   "pygments_lexer": "ipython3",
   "version": "3.10.12"
  }
 },
 "nbformat": 4,
 "nbformat_minor": 5
}
