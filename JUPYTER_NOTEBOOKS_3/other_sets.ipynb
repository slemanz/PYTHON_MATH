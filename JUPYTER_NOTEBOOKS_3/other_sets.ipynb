{
 "cells": [
  {
   "cell_type": "markdown",
   "id": "e0554ea7-09ad-45e9-a384-71b1d54a2f58",
   "metadata": {},
   "source": [
    "# Sub, Super and Power Sets"
   ]
  },
  {
   "cell_type": "code",
   "execution_count": null,
   "id": "ffc5db23-acba-4b5f-8050-ffd49a3059c9",
   "metadata": {},
   "outputs": [],
   "source": []
  }
 ],
 "metadata": {
  "kernelspec": {
   "display_name": "Python 3 (ipykernel)",
   "language": "python",
   "name": "python3"
  },
  "language_info": {
   "codemirror_mode": {
    "name": "ipython",
    "version": 3
   },
   "file_extension": ".py",
   "mimetype": "text/x-python",
   "name": "python",
   "nbconvert_exporter": "python",
   "pygments_lexer": "ipython3",
   "version": "3.10.12"
  }
 },
 "nbformat": 4,
 "nbformat_minor": 5
}
