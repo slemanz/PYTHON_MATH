{
 "cells": [
  {
   "cell_type": "markdown",
   "id": "c7bbf773-4d8b-444c-ab85-26c9c5d28fcf",
   "metadata": {},
   "source": [
    "# Probability\n",
    "\n",
    "Basic concepts of probability.\n",
    "\n",
    "- __Experiment__ is simply the test we want to perform. We perform the test because we’re interested in the probability of each possible outcome. Rolling a die, flipping a coin, and pulling a card from a deck of cards are all examples of experiments. A single run of an experiment is referred to as a trial.\n",
    "\n",
    "- __Sample space__ all possible outcomes of an experiment form a set known as the _sample space_, which we’ll usually call $S$ in formulas.\n",
    "\n",
    "- __Event__ is a set of outcomes that we want to calculate the probability of and that form a subset of the sample space. For example, we might want to know the probability of a particular outcome, like rolling a 3, or the probability of a set of multiple outcomes, such as rolling an even number (either 2, 4, or 6). We’ll use the letter E in formulas.\n",
    "\n",
    "If there’s a uniform distribution—that is, if each outcome in the sample space is equally likely to occur—then the probability of an event, P(E), occurring is calculated using the following formula:\n",
    "\n",
    "$$ P(E) = \\dfrac{n(E)}{n(S)} $$\n",
    "\n",
    "To calculate the probability of a particular roll—say,3:"
   ]
  },
  {
   "cell_type": "code",
   "execution_count": 2,
   "id": "7003f4f2-27c8-4d38-b59b-249e971e456a",
   "metadata": {},
   "outputs": [
    {
     "name": "stdout",
     "output_type": "stream",
     "text": [
      "0.17\n"
     ]
    }
   ],
   "source": [
    "S = {1, 2, 3, 4, 5, 6}\n",
    "E = {3}\n",
    "\n",
    "nE = len(E)\n",
    "nS = len(S)\n",
    "\n",
    "pE = nE/nS\n",
    "print(\"{:.2f}\".format(pE))"
   ]
  },
  {
   "cell_type": "markdown",
   "id": "d4c0f958-5189-4dd6-a757-cdc2d43bc55f",
   "metadata": {},
   "source": [
    "A program to find the probability of a prime number appearing when a 20-sided die is rolled, would be like:"
   ]
  },
  {
   "cell_type": "code",
   "execution_count": 4,
   "id": "7db80331-feff-46d7-8d82-903ef1276de2",
   "metadata": {},
   "outputs": [
    {
     "name": "stdout",
     "output_type": "stream",
     "text": [
      "Sample space: {1, 2, 3, 4, 5, 6, 7, 8, 9, 10, 11, 12, 13, 14, 15, 16, 17, 18, 19, 20}\n",
      "Event: {2, 3, 5, 7, 11, 13, 17, 19}\n",
      "Probability of rolling a prime: 0.40000\n"
     ]
    }
   ],
   "source": [
    "from sympy import FiniteSet\n",
    "\n",
    "def probability(space, event):\n",
    "    return len(event)/len(space)\n",
    "    \n",
    "def check_prime(number):\n",
    "    if number != 1:\n",
    "        for factor in range(2, number):\n",
    "            if number % factor == 0:\n",
    "                return False\n",
    "    else:\n",
    "        return False\n",
    "    return True\n",
    "\n",
    "space = FiniteSet(*range(1, 21))\n",
    "primes = []\n",
    "for num in space:\n",
    "    if check_prime(num):\n",
    "        primes.append(num)\n",
    "        \n",
    "event= FiniteSet(*primes)\n",
    "p = probability(space, event)\n",
    "print('Sample space: {}'.format(space))\n",
    "print('Event: {}'.format(event))\n",
    "print('Probability of rolling a prime: {:.5f}'.format(p))"
   ]
  },
  {
   "cell_type": "markdown",
   "id": "dc41bffb-1434-4eca-907b-eec0c60e4904",
   "metadata": {},
   "source": [
    "## More topics\n",
    "\n",
    "---\n",
    "\n",
    "[Main Page](../README.md)"
   ]
  }
 ],
 "metadata": {
  "kernelspec": {
   "display_name": "Python 3 (ipykernel)",
   "language": "python",
   "name": "python3"
  },
  "language_info": {
   "codemirror_mode": {
    "name": "ipython",
    "version": 3
   },
   "file_extension": ".py",
   "mimetype": "text/x-python",
   "name": "python",
   "nbconvert_exporter": "python",
   "pygments_lexer": "ipython3",
   "version": "3.10.12"
  }
 },
 "nbformat": 4,
 "nbformat_minor": 5
}
