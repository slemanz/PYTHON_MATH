{
 "cells": [
  {
   "cell_type": "markdown",
   "id": "c7bbf773-4d8b-444c-ab85-26c9c5d28fcf",
   "metadata": {},
   "source": [
    "# Probability\n",
    "\n",
    "Basic concepts of probability.\n",
    "\n",
    "- __Experiment__ is simply the test we want to perform. We perform the test because we’re interested in the probability of each possible outcome. Rolling a die, flipping a coin, and pulling a card from a deck of cards are all examples of experiments. A single run of an experiment is referred to as a trial.\n",
    "\n",
    "- __Sample space__ all possible outcomes of an experiment form a set known as the _sample space_, which we’ll usually call $S$ in formulas.\n",
    "\n",
    "- __Event__ is a set of outcomes that we want to calculate the probability of and that form a subset of the sample space. For example, we might want to know the probability of a particular outcome, like rolling a 3, or the probability of a set of multiple outcomes, such as rolling an even number (either 2, 4, or 6). We’ll use the letter E in formulas.\n",
    "\n",
    "If there’s a uniform distribution—that is, if each outcome in the sample space is equally likely to occur—then the probability of an event, P(E), occurring is calculated using the following formula:\n",
    "\n",
    "$$ P(E) = \\dfrac{n(E)}{n(S)} $$\n",
    "\n",
    "To calculate the probability of a particular roll—say,3:"
   ]
  },
  {
   "cell_type": "code",
   "execution_count": 2,
   "id": "7003f4f2-27c8-4d38-b59b-249e971e456a",
   "metadata": {},
   "outputs": [
    {
     "name": "stdout",
     "output_type": "stream",
     "text": [
      "0.17\n"
     ]
    }
   ],
   "source": [
    "S = {1, 2, 3, 4, 5, 6}\n",
    "E = {3}\n",
    "\n",
    "nE = len(E)\n",
    "nS = len(S)\n",
    "\n",
    "pE = nE/nS\n",
    "print(\"{:.2f}\".format(pE))"
   ]
  },
  {
   "cell_type": "code",
   "execution_count": null,
   "id": "11891559-d3e9-41fc-8e16-5aa101530e7f",
   "metadata": {},
   "outputs": [],
   "source": []
  }
 ],
 "metadata": {
  "kernelspec": {
   "display_name": "Python 3 (ipykernel)",
   "language": "python",
   "name": "python3"
  },
  "language_info": {
   "codemirror_mode": {
    "name": "ipython",
    "version": 3
   },
   "file_extension": ".py",
   "mimetype": "text/x-python",
   "name": "python",
   "nbconvert_exporter": "python",
   "pygments_lexer": "ipython3",
   "version": "3.10.12"
  }
 },
 "nbformat": 4,
 "nbformat_minor": 5
}
