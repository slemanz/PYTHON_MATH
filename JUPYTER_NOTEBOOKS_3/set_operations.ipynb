{
 "cells": [
  {
   "cell_type": "markdown",
   "id": "3025afae-db5f-4989-8fb4-64c343698e91",
   "metadata": {},
   "source": [
    "# Set Operations\n",
    "\n",
    "Set operations such as union, intersection, and the Cartesian product allow you to combine sets in certain methodical ways. These set operations are extremely useful in real-world problem-solving situations when we have to consider multiple sets together.\n",
    "\n",
    "## Union and Intersection\n",
    "\n",
    "The __union__ of two sets is a set that contains all of the distinct members of the two sets. \n",
    "\n",
    "$$A\\cup B$$"
   ]
  },
  {
   "cell_type": "code",
   "execution_count": 1,
   "id": "1f4508e5-e166-4a64-a088-99753f8b80c3",
   "metadata": {},
   "outputs": [
    {
     "name": "stdout",
     "output_type": "stream",
     "text": [
      "{1, 2, 3, 4, 6}\n"
     ]
    }
   ],
   "source": [
    "from sympy import FiniteSet\n",
    "\n",
    "A = FiniteSet(1, 2, 3)\n",
    "B = FiniteSet(2, 4, 6)\n",
    "\n",
    "u = A.union(B)\n",
    "print(u)"
   ]
  },
  {
   "cell_type": "markdown",
   "id": "e9dde04c-99db-4c37-a9c8-d812c376054b",
   "metadata": {},
   "source": [
    "The __intersection__ of two sets creates a new set from the elements common to both sets.\n",
    "\n",
    "$$C\\cap D$$"
   ]
  },
  {
   "cell_type": "code",
   "execution_count": 2,
   "id": "20d68122-77bd-44f0-a77a-7c6929c13b6d",
   "metadata": {},
   "outputs": [
    {
     "name": "stdout",
     "output_type": "stream",
     "text": [
      "{2}\n"
     ]
    }
   ],
   "source": [
    "C = FiniteSet(1, 2)\n",
    "D = FiniteSet(2, 3)\n",
    "\n",
    "i = C.intersect(D)\n",
    "print(i)"
   ]
  },
  {
   "cell_type": "markdown",
   "id": "fa7e5874-89c2-419b-886e-39199ca774cf",
   "metadata": {},
   "source": [
    "Whereas the union operation finds members that are in one set or another, the intersection operation finds elements that are present in both. Both of these operations can also be applied to more than two sets.\n",
    "\n",
    "$$ A\\cup B\\cup C $$"
   ]
  },
  {
   "cell_type": "code",
   "execution_count": 3,
   "id": "73a2faf0-0499-409e-afa9-641eb9fa76bb",
   "metadata": {},
   "outputs": [
    {
     "name": "stdout",
     "output_type": "stream",
     "text": [
      "{1, 2, 3, 4, 5, 6, 7}\n"
     ]
    }
   ],
   "source": [
    "A = FiniteSet(1, 2, 3)\n",
    "B = FiniteSet(2, 4, 6)\n",
    "C = FiniteSet(3, 5, 7)\n",
    "u = A.union(B).union(C)\n",
    "\n",
    "print(u)"
   ]
  },
  {
   "cell_type": "markdown",
   "id": "ebe5400a-3b94-4a86-b6b2-f0fe9fac17e9",
   "metadata": {},
   "source": [
    "## Cartesian Product\n",
    "\n",
    "to do!"
   ]
  },
  {
   "cell_type": "code",
   "execution_count": null,
   "id": "fc852fb3-0572-4bc7-9e0d-5aa52956b4b2",
   "metadata": {},
   "outputs": [],
   "source": []
  }
 ],
 "metadata": {
  "kernelspec": {
   "display_name": "Python 3 (ipykernel)",
   "language": "python",
   "name": "python3"
  },
  "language_info": {
   "codemirror_mode": {
    "name": "ipython",
    "version": 3
   },
   "file_extension": ".py",
   "mimetype": "text/x-python",
   "name": "python",
   "nbconvert_exporter": "python",
   "pygments_lexer": "ipython3",
   "version": "3.10.12"
  }
 },
 "nbformat": 4,
 "nbformat_minor": 5
}
