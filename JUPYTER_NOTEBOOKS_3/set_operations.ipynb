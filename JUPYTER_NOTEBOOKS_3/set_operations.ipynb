{
 "cells": [
  {
   "cell_type": "markdown",
   "id": "3025afae-db5f-4989-8fb4-64c343698e91",
   "metadata": {},
   "source": [
    "# Set Operations\n",
    "\n",
    "Set operations such as union, intersection, and the Cartesian product allow you to combine sets in certain methodical ways. These set operations are extremely useful in real-world problem-solving situations when we have to consider multiple sets together.\n",
    "\n",
    "## Union and Intersection\n",
    "\n",
    "The __union__ of two sets is a set that contains all of the distinct members of the two sets. \n",
    "\n",
    "$$A\\cup B$$"
   ]
  },
  {
   "cell_type": "code",
   "execution_count": 1,
   "id": "1f4508e5-e166-4a64-a088-99753f8b80c3",
   "metadata": {},
   "outputs": [
    {
     "name": "stdout",
     "output_type": "stream",
     "text": [
      "{1, 2, 3, 4, 6}\n"
     ]
    }
   ],
   "source": [
    "from sympy import FiniteSet\n",
    "\n",
    "A = FiniteSet(1, 2, 3)\n",
    "B = FiniteSet(2, 4, 6)\n",
    "\n",
    "u = A.union(B)\n",
    "print(u)"
   ]
  },
  {
   "cell_type": "markdown",
   "id": "e9dde04c-99db-4c37-a9c8-d812c376054b",
   "metadata": {},
   "source": [
    "The __intersection__ of two sets creates a new set from the elements common to both sets.\n",
    "\n",
    "$$C\\cap D$$"
   ]
  },
  {
   "cell_type": "code",
   "execution_count": 2,
   "id": "20d68122-77bd-44f0-a77a-7c6929c13b6d",
   "metadata": {},
   "outputs": [
    {
     "name": "stdout",
     "output_type": "stream",
     "text": [
      "{2}\n"
     ]
    }
   ],
   "source": [
    "C = FiniteSet(1, 2)\n",
    "D = FiniteSet(2, 3)\n",
    "\n",
    "i = C.intersect(D)\n",
    "print(i)"
   ]
  },
  {
   "cell_type": "markdown",
   "id": "fa7e5874-89c2-419b-886e-39199ca774cf",
   "metadata": {},
   "source": [
    "Whereas the union operation finds members that are in one set or another, the intersection operation finds elements that are present in both. Both of these operations can also be applied to more than two sets.\n",
    "\n",
    "$$ A\\cup B\\cup C $$"
   ]
  },
  {
   "cell_type": "code",
   "execution_count": 3,
   "id": "73a2faf0-0499-409e-afa9-641eb9fa76bb",
   "metadata": {},
   "outputs": [
    {
     "name": "stdout",
     "output_type": "stream",
     "text": [
      "{1, 2, 3, 4, 5, 6, 7}\n"
     ]
    }
   ],
   "source": [
    "A = FiniteSet(1, 2, 3)\n",
    "B = FiniteSet(2, 4, 6)\n",
    "C = FiniteSet(3, 5, 7)\n",
    "u = A.union(B).union(C)\n",
    "\n",
    "print(u)"
   ]
  },
  {
   "cell_type": "markdown",
   "id": "ebe5400a-3b94-4a86-b6b2-f0fe9fac17e9",
   "metadata": {},
   "source": [
    "## Cartesian Product\n",
    "\n",
    "The Cartesian product of two sets creates a set that consists of all possible pairs made by taking an element from each set."
   ]
  },
  {
   "cell_type": "code",
   "execution_count": 4,
   "id": "fc852fb3-0572-4bc7-9e0d-5aa52956b4b2",
   "metadata": {},
   "outputs": [
    {
     "name": "stdout",
     "output_type": "stream",
     "text": [
      "ProductSet({1, 2}, {3, 4})\n",
      "(1, 3)\n",
      "(2, 3)\n",
      "(1, 4)\n",
      "(2, 4)\n"
     ]
    }
   ],
   "source": [
    "from sympy import FiniteSet\n",
    "\n",
    "s = FiniteSet(1,2)\n",
    "t = FiniteSet(3,4)\n",
    "\n",
    "p = s*t\n",
    "print(p)\n",
    "\n",
    "for elem in p:\n",
    "    print(elem)"
   ]
  },
  {
   "cell_type": "markdown",
   "id": "dba51a60-b18c-4222-99e0-81f3a3fb62a4",
   "metadata": {},
   "source": [
    "Each element of the product is a tuple consisting of a member from the first set and a member from the second set.\n",
    "\n",
    "## Formula to Multiple Sets of Variables\n",
    "\n",
    "A simple pendulum of length $L$. The time period, $T$, the amount of time it takes for the pendulum to complete one full swing—is given by the formula:\n",
    "\n",
    "$$ T = 2\\pi \\sqrt{\\dfrac{L}{g}} $$\n",
    "\n",
    "If you wanted to see how the time period of a simple pendulum varies with its length, you’d assume different values for the length and measure the corresponding time period at each of these values using the formula. In python we van do it:"
   ]
  },
  {
   "cell_type": "code",
   "execution_count": 5,
   "id": "186df6a4-bd20-49e6-85af-faae65b991e2",
   "metadata": {},
   "outputs": [
    {
     "name": "stdout",
     "output_type": "stream",
     "text": [
      "Length: 22.5 cm Time Period: 0.952 s\n",
      "Length: 15.0 cm Time Period: 0.777 s\n",
      "Length: 18.0 cm Time Period: 0.852 s\n",
      "Length: 21.0 cm Time Period: 0.920 s\n",
      "Length: 25.0 cm Time Period: 1.004 s\n"
     ]
    }
   ],
   "source": [
    "from sympy import FiniteSet, pi\n",
    "\n",
    "def time_period(length):\n",
    "    g = 9.8\n",
    "    T = 2*pi*(length/g)**0.5\n",
    "    return T\n",
    "\n",
    "L = FiniteSet(15, 18, 21, 22.5, 25)\n",
    "for l in L:\n",
    "    t = time_period(l/100)\n",
    "    print('Length: {} cm Time Period: {:.3f} s'. format(float(l), float(t)))"
   ]
  },
  {
   "cell_type": "markdown",
   "id": "8d1756bf-1b74-49e4-8e85-b30be875ea4e",
   "metadata": {},
   "source": [
    "### Different Gravity \n",
    "\n",
    "Now, imagine we conducted this experiment in three different places. The force of gravity varies slightly depending on the latitude of your\n",
    "location.\n",
    "\n",
    "If we want to calculate the period of a pendulum for each of our five lengths at each of these three locations, a systematic way to work out all of these combinations of the values is to take the Cartesian product, as shown in the following program:\n"
   ]
  },
  {
   "cell_type": "code",
   "execution_count": 7,
   "id": "d938f419-408f-43bf-9f99-8eced5b7a4dc",
   "metadata": {},
   "outputs": [
    {
     "name": "stdout",
     "output_type": "stream",
     "text": [
      "     Length(cm)        Gravity(m/s^2)      Time Period(s)   \n",
      "        22.5                9.75               0.954        \n",
      "        15.0                9.75               0.779        \n",
      "        22.5                9.8                0.952        \n",
      "        18.0                9.75               0.854        \n",
      "        15.0                9.8                0.777        \n",
      "        22.5                9.85               0.950        \n",
      "        21.0                9.75               0.922        \n",
      "        18.0                9.8                0.852        \n",
      "        15.0                9.85               0.775        \n",
      "        25.0                9.75               1.006        \n",
      "        21.0                9.8                0.920        \n",
      "        18.0                9.85               0.849        \n",
      "        25.0                9.8                1.004        \n",
      "        21.0                9.85               0.917        \n",
      "        25.0                9.85               1.001        \n"
     ]
    }
   ],
   "source": [
    "from sympy import FiniteSet, pi\n",
    "\n",
    "def time_period(length, g):\n",
    "    T = 2*pi*(length/g)**0.5\n",
    "    return T\n",
    "\n",
    "g_values = FiniteSet(9.8,9.75,9.85)\n",
    "L = FiniteSet(15, 18, 21, 22.5, 25)\n",
    "\n",
    "print('{:^20}{:^20}{:^20}'.format('Length(cm)', 'Gravity(m/s^2)', 'Time Period(s)'))\n",
    "for elem in L*g_values:\n",
    "    l = elem[0]\n",
    "    g = elem[1]\n",
    "    t = time_period(l/100, g)\n",
    "\n",
    "    print('{:^20}{:^20}{:^20.3f}'.format(float(l), float(g), float(t)))\n",
    "    "
   ]
  },
  {
   "cell_type": "markdown",
   "id": "fbde9ec5-637d-46d5-a685-98a61b513ce8",
   "metadata": {},
   "source": [
    "This experiment presents a simple scenario where you need all possible combinations of the elements of multiple sets (or a group of numbers). In this type of situation, the Cartesian product is exactly what you need.\n",
    "\n",
    "---\n",
    "\n",
    "[Sets](sets.ipynb)\n",
    "\n",
    "[Main Page](../README.md)"
   ]
  }
 ],
 "metadata": {
  "kernelspec": {
   "display_name": "Python 3 (ipykernel)",
   "language": "python",
   "name": "python3"
  },
  "language_info": {
   "codemirror_mode": {
    "name": "ipython",
    "version": 3
   },
   "file_extension": ".py",
   "mimetype": "text/x-python",
   "name": "python",
   "nbconvert_exporter": "python",
   "pygments_lexer": "ipython3",
   "version": "3.10.12"
  }
 },
 "nbformat": 4,
 "nbformat_minor": 5
}
