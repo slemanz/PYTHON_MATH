{
 "cells": [
  {
   "cell_type": "markdown",
   "id": "eefbaf27-12a0-4e5d-831f-8af369ae1d66",
   "metadata": {},
   "source": [
    "# Sets\n",
    "\n",
    "We can make our programs understand and manipulate sets of numbers.\n",
    "\n",
    "## What's a Set?\n",
    "\n",
    "A set is a collection of distinct objects, often called elements or members. Two characteristics of a set make it different from just any collection of objects. A set can contain anything—numbers, people, things, words, and so on.\n",
    "\n",
    "## Set Constructions\n",
    "\n",
    "In mathematical notation, you represent a set by writing the set members enclosed in curly brackets. For example, {2, 4, 6} represents a set with 2, 4, and 6 as its members. In python:"
   ]
  },
  {
   "cell_type": "code",
   "execution_count": 1,
   "id": "f32eb8fd-c7bc-4467-8029-e0888f7923e5",
   "metadata": {},
   "outputs": [
    {
     "name": "stdout",
     "output_type": "stream",
     "text": [
      "{2, 4, 6}\n"
     ]
    }
   ],
   "source": [
    "from sympy import FiniteSet\n",
    "\n",
    "s = FiniteSet(2, 4, 6)\n",
    "print(s)"
   ]
  },
  {
   "cell_type": "markdown",
   "id": "ae1da16f-284c-40b4-9af6-fa164a1f9fa3",
   "metadata": {},
   "source": [
    "We can store different types of numbers—including integers, floating point numbers, and fractions—in the same set:"
   ]
  },
  {
   "cell_type": "code",
   "execution_count": 2,
   "id": "bd2bc5a8-99b9-4d7a-9b13-491a51bef329",
   "metadata": {},
   "outputs": [
    {
     "name": "stdout",
     "output_type": "stream",
     "text": [
      "{1/5, 1, 1.5}\n"
     ]
    }
   ],
   "source": [
    "from fractions import Fraction\n",
    "\n",
    "s = FiniteSet(1, 1.5, Fraction(1, 5))\n",
    "print(s)"
   ]
  },
  {
   "cell_type": "markdown",
   "id": "a5aa99ee-ec24-48c8-b6d7-6e3179f199be",
   "metadata": {},
   "source": [
    "## Checking Whether a Number Is in a Set\n",
    "\n",
    "To check whether a number is a member of an existing set, use the ``in`` operator:"
   ]
  },
  {
   "cell_type": "code",
   "execution_count": 4,
   "id": "fe0afaca-61bb-4489-987d-62f5ab787344",
   "metadata": {},
   "outputs": [
    {
     "name": "stdout",
     "output_type": "stream",
     "text": [
      "False\n",
      "True\n"
     ]
    }
   ],
   "source": [
    "s = FiniteSet(2,3,5)\n",
    "\n",
    "print(4 in s)\n",
    "print(3 in s)"
   ]
  },
  {
   "cell_type": "markdown",
   "id": "03005211-7404-4214-bbef-9c42e6d92408",
   "metadata": {},
   "source": [
    "## Creating Sets from Lists or Tuples\n",
    "\n",
    "You can also create a set by passing in a list or a tuple of set members as an argument to FiniteSet:"
   ]
  },
  {
   "cell_type": "code",
   "execution_count": 5,
   "id": "899ea6cf-a8a9-4da9-8ae0-280ce928c314",
   "metadata": {},
   "outputs": [
    {
     "name": "stdout",
     "output_type": "stream",
     "text": [
      "{1, 5, 10}\n"
     ]
    }
   ],
   "source": [
    "members = [1,5,10]\n",
    "s = FiniteSet(*members)\n",
    "\n",
    "print(s)"
   ]
  },
  {
   "cell_type": "markdown",
   "id": "87a4ad54-dbd5-411a-8b02-38179677401c",
   "metadata": {},
   "source": [
    "## Set Repetition and Order\n",
    "\n",
    "Sets in Python (like mathematical sets) ignore any repeats of a member, and they don’t keep track of the order of set members."
   ]
  },
  {
   "cell_type": "code",
   "execution_count": 6,
   "id": "96bdfa5d-423a-402d-b0e9-9c0670758537",
   "metadata": {},
   "outputs": [
    {
     "name": "stdout",
     "output_type": "stream",
     "text": [
      "{1, 2, 3}\n"
     ]
    }
   ],
   "source": [
    "members = [1,2,3,2]\n",
    "s = FiniteSet(*members)\n",
    "\n",
    "print(s)"
   ]
  },
  {
   "cell_type": "markdown",
   "id": "58c2e175-233b-4e8a-9ce2-8f6a604880d8",
   "metadata": {},
   "source": [
    "Here, even though we passed in a list that had two instances of the number 2, the number 2 appears only once in the set created from that list.\n",
    "\n",
    "## More About Sets\n",
    "\n",
    "[Sub, Super and Power Sets](other_sets.ipynb)\n",
    "\n",
    "[Set Operations](set_operations.ipynb)\n",
    "\n",
    "---\n",
    "\n",
    "[Main Page](../README.md)"
   ]
  }
 ],
 "metadata": {
  "kernelspec": {
   "display_name": "Python 3 (ipykernel)",
   "language": "python",
   "name": "python3"
  },
  "language_info": {
   "codemirror_mode": {
    "name": "ipython",
    "version": 3
   },
   "file_extension": ".py",
   "mimetype": "text/x-python",
   "name": "python",
   "nbconvert_exporter": "python",
   "pygments_lexer": "ipython3",
   "version": "3.10.12"
  }
 },
 "nbformat": 4,
 "nbformat_minor": 5
}
