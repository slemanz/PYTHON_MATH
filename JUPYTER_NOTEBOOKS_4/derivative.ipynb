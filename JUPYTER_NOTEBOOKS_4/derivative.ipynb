{
 "cells": [
  {
   "cell_type": "markdown",
   "id": "67a57140-58aa-4005-bcd0-844f28c0de04",
   "metadata": {},
   "source": [
    "# Finding the Derivative\n",
    "\n",
    "The derivative of a function $y = f(x)$ expresses the rate of change in the dependent variable, $y$, with respect to the independent variable, $x$. It’s denoted as either:\n",
    "\n",
    "$$ f'(x)\\,\\,\\,\\textrm{   or   }\\,\\,\\, \\dfrac{dy}{dx}$$"
   ]
  },
  {
   "cell_type": "code",
   "execution_count": null,
   "id": "b8d418bd-2fba-4d44-86da-bb6744c89b85",
   "metadata": {},
   "outputs": [],
   "source": []
  }
 ],
 "metadata": {
  "kernelspec": {
   "display_name": "Python 3 (ipykernel)",
   "language": "python",
   "name": "python3"
  },
  "language_info": {
   "codemirror_mode": {
    "name": "ipython",
    "version": 3
   },
   "file_extension": ".py",
   "mimetype": "text/x-python",
   "name": "python",
   "nbconvert_exporter": "python",
   "pygments_lexer": "ipython3",
   "version": "3.10.12"
  }
 },
 "nbformat": 4,
 "nbformat_minor": 5
}
