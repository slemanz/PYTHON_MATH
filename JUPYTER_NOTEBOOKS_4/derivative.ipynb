{
 "cells": [
  {
   "cell_type": "markdown",
   "id": "67a57140-58aa-4005-bcd0-844f28c0de04",
   "metadata": {},
   "source": [
    "# Finding the Derivative\n",
    "\n",
    "The derivative of a function $y = f(x)$ expresses the rate of change in the dependent variable, $y$, with respect to the independent variable, $x$. It’s denoted as either:\n",
    "\n",
    "$$ f'(x)\\,\\,\\,\\textrm{   or   }\\,\\,\\, \\dfrac{dy}{dx}$$\n",
    "\n",
    "We can find the derivative of a function by creating an object of the Derivative class."
   ]
  },
  {
   "cell_type": "code",
   "execution_count": 9,
   "id": "b8d418bd-2fba-4d44-86da-bb6744c89b85",
   "metadata": {},
   "outputs": [
    {
     "name": "stdout",
     "output_type": "stream",
     "text": [
      "Derivative(5*t**2 + 2*t + 8, t)\n",
      "10*t + 2\n"
     ]
    }
   ],
   "source": [
    "from sympy import Symbol, Derivative, sympify, pprint\n",
    "\n",
    "t = Symbol('t')\n",
    "St = 5*t**2 + 2*t + 8\n",
    "\n",
    "d = Derivative(St, t)\n",
    "print(d)\n",
    "print(d.doit())"
   ]
  },
  {
   "cell_type": "markdown",
   "id": "cf0cff75-7f00-47ff-a091-e0933b3b482f",
   "metadata": {},
   "source": [
    "Now, if we want to calculate the value of the derivative at a particular value of $t$ like, $t = t_1$ or $t = 1$, we can use the ``subs()`` method:"
   ]
  },
  {
   "cell_type": "code",
   "execution_count": 8,
   "id": "a0e14a91-70af-4395-bfd6-61a498708b2f",
   "metadata": {},
   "outputs": [
    {
     "name": "stdout",
     "output_type": "stream",
     "text": [
      "10*t1 + 2\n",
      "12\n"
     ]
    }
   ],
   "source": [
    "t1 = Symbol('t1')\n",
    "d1 = d.doit().subs({t:t1})\n",
    "print(d1)\n",
    "\n",
    "d2 = d.doit().subs({t1:1})\n",
    "print(d2)\n",
    "\n"
   ]
  },
  {
   "cell_type": "markdown",
   "id": "7a8e1e15-77a3-4fe5-8ff4-6e8a57d7950f",
   "metadata": {},
   "source": [
    "## A Derivative Calculator\n",
    "\n",
    "Let’s write a derivative calculator program:"
   ]
  },
  {
   "cell_type": "code",
   "execution_count": 14,
   "id": "b1ce302a-6cdf-4c27-8bf0-b9c96c381dd8",
   "metadata": {},
   "outputs": [
    {
     "name": "stdout",
     "output_type": "stream",
     "text": [
      "4⋅x + 3\n"
     ]
    }
   ],
   "source": [
    "x = Symbol('x')\n",
    "\n",
    "def derivative(f):\n",
    "    d = Derivative(f, var).doit()\n",
    "    pprint(d)\n",
    "\n",
    "f = 2*x**2 + 3*x + 1\n",
    "\n",
    "f = sympify(f)\n",
    "derivative(f)"
   ]
  },
  {
   "cell_type": "markdown",
   "id": "710fcda5-88f1-4fdd-b977-9afb4460bb5b",
   "metadata": {},
   "source": [
    "##"
   ]
  }
 ],
 "metadata": {
  "kernelspec": {
   "display_name": "Python 3 (ipykernel)",
   "language": "python",
   "name": "python3"
  },
  "language_info": {
   "codemirror_mode": {
    "name": "ipython",
    "version": 3
   },
   "file_extension": ".py",
   "mimetype": "text/x-python",
   "name": "python",
   "nbconvert_exporter": "python",
   "pygments_lexer": "ipython3",
   "version": "3.10.12"
  }
 },
 "nbformat": 4,
 "nbformat_minor": 5
}
