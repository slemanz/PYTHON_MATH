{
 "cells": [
  {
   "cell_type": "markdown",
   "id": "0344abc1-090f-4ea0-b3fa-d2ecea3a2e10",
   "metadata": {},
   "source": [
    "# Finding the Integrals\n",
    "\n",
    "The indefinite integral, or the antiderivative, of a function $f(x)$ is another function $F(x)$, such that $F'(x) = f(x)$. That is, the integral of a function is another function whose derivative is the original function. Mathematically, it’s written as $F(x) = \\int f(x) dx$. The definite integral, on the other hand, is the integral:\n",
    "\n",
    "$$ \\int_a^b f(x) dx $$\n",
    "\n",
    "Here’s how we can find the integral $\\int kxdx$, where k is a constant term:"
   ]
  },
  {
   "cell_type": "code",
   "execution_count": 2,
   "id": "9c51afb4-da55-4dda-a23e-0a8099ab36f0",
   "metadata": {},
   "outputs": [
    {
     "name": "stdout",
     "output_type": "stream",
     "text": [
      "k*x**2/2\n"
     ]
    }
   ],
   "source": [
    "from sympy import Integral, Symbol\n",
    "\n",
    "x = Symbol('x')\n",
    "k = Symbol('k')\n",
    "i = Integral(k*x, x).doit()\n",
    "\n",
    "print(i)"
   ]
  },
  {
   "cell_type": "markdown",
   "id": "a14d3e5e-f133-4607-ad3f-b1816cfa6c26",
   "metadata": {},
   "source": [
    "The integral turns out to be $\\frac{kx^2}{2}$. If you calculate the derivative of it, you’ll get back the original function, $kx$.\n",
    "\n",
    "To find the definite integral, we simply specify the variable, the lower limit, and the upper limit as a tuple when we create the Integral object:"
   ]
  },
  {
   "cell_type": "code",
   "execution_count": 5,
   "id": "5bdcc296-9b35-4139-b1ce-17392a372e87",
   "metadata": {},
   "outputs": [
    {
     "name": "stdout",
     "output_type": "stream",
     "text": [
      "2*k\n"
     ]
    }
   ],
   "source": [
    "i = Integral(k*x, (x, 0, 2)).doit()\n",
    "print(i)"
   ]
  },
  {
   "cell_type": "markdown",
   "id": "e9dacf82-56f0-4bbd-85a3-8f4076539fc5",
   "metadata": {},
   "source": [
    "---\n",
    "\n",
    "[Calculus Problems](calculus.ipynb)\n",
    "\n",
    "[Main Page](../README.md)"
   ]
  }
 ],
 "metadata": {
  "kernelspec": {
   "display_name": "Python 3 (ipykernel)",
   "language": "python",
   "name": "python3"
  },
  "language_info": {
   "codemirror_mode": {
    "name": "ipython",
    "version": 3
   },
   "file_extension": ".py",
   "mimetype": "text/x-python",
   "name": "python",
   "nbconvert_exporter": "python",
   "pygments_lexer": "ipython3",
   "version": "3.10.12"
  }
 },
 "nbformat": 4,
 "nbformat_minor": 5
}
